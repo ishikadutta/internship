{
 "cells": [
  {
   "cell_type": "code",
   "execution_count": 40,
   "metadata": {},
   "outputs": [],
   "source": [
    "import pandas as pd\n",
    "import numpy as np\n",
    "import random\n",
    "from sklearn.model_selection import train_test_split\n",
    "#from sklearn.tree import DecisionTreeClassifier\n",
    "from sklearn.tree import DecisionTreeRegressor\n",
    "from sklearn.ensemble import BaggingRegressor\n",
    "from sklearn.linear_model import LinearRegression"
   ]
  },
  {
   "cell_type": "code",
   "execution_count": 41,
   "metadata": {},
   "outputs": [],
   "source": [
    "data = pd.read_csv(\"BANKNIFTYFUTALL.csv\")\n",
    "feature_cols_JUL = ['trade', 'event', 'ob', 'bevent','btrade','spreadreturn', 'niftyidevent','niftyidindex']\n",
    "#data.dropna(subset=['return800'], axis=0)\n",
    "\n",
    "data.drop([data.index[457897]],inplace=True)\n",
    "#data.isnull().sum(axis = 0)"
   ]
  },
  {
   "cell_type": "markdown",
   "metadata": {},
   "source": [
    "##### Create n samples from the dataset and perform regression on each sample and take the average of the score of each samples"
   ]
  },
  {
   "cell_type": "code",
   "execution_count": 42,
   "metadata": {},
   "outputs": [
    {
     "name": "stdout",
     "output_type": "stream",
     "text": [
      "[0.004289760088394212, 0.0029516989321035636, 0.003705461271462429, 0.0034769729626544787, 0.0029830959093758436, 0.003769709727808324, 0.0036027079108490456, 0.0026740858531143497, 0.004146315573728798, 0.004178450341793205]\n",
      "0.003577825857128425\n"
     ]
    }
   ],
   "source": [
    "n=10\n",
    "sco=[]\n",
    "while(n):\n",
    "    col=random.randint(2,7)\n",
    "    row=random.randint(228948,457897)\n",
    "    col_list=[]\n",
    "    for i in range(len(feature_cols_JUL)):\n",
    "        if(i<=col):\n",
    "            col_list.append(feature_cols_JUL[i])\n",
    "    XX=data[col_list]\n",
    "    X=XX.iloc[0:row,:]\n",
    "    Y=data.iloc[0:row,34]\n",
    "    reg=LinearRegression()\n",
    "    reg.fit(X,Y)\n",
    "    r_sq = reg.score(X,Y)\n",
    "    sco.append(r_sq)\n",
    "    n=n-1\n",
    "print(sco)\n",
    "s=0\n",
    "for i in sco:\n",
    "    s+=i\n",
    "print(s/(len(sco)))"
   ]
  },
  {
   "cell_type": "markdown",
   "metadata": {},
   "source": [
    "##### Calculating average weights by taking sub-samples from the dataset and then predicting accordingly"
   ]
  },
  {
   "cell_type": "code",
   "execution_count": 4,
   "metadata": {},
   "outputs": [
    {
     "name": "stdout",
     "output_type": "stream",
     "text": [
      "{'trade': 4, 'event': 6, 'ob': 5, 'bevent': 6, 'btrade': 6, 'spreadreturn': 7, 'niftyidevent': 8, 'niftyidindex': 7}\n",
      "{'trade': 0.4037849793852937, 'event': 0.3946855542326453, 'ob': 1.0690682723312026, 'bevent': 0.6803847297050505, 'btrade': -0.0361893235014932, 'spreadreturn': 0.8608047770175122, 'niftyidevent': 0.38319244138034275, 'niftyidindex': 0.29537407020340184}\n",
      "{'trade': 0.10094624484632342, 'event': 0.06578092570544088, 'ob': 0.2138136544662405, 'bevent': 0.11339745495084175, 'btrade': -0.0060315539169155325, 'spreadreturn': 0.12297211100250174, 'niftyidevent': 0.047899055172542844, 'niftyidindex': 0.04219629574334312}\n"
     ]
    }
   ],
   "source": [
    "n=10\n",
    "sco=[]\n",
    "dcount={}\n",
    "davg={}\n",
    "for i in feature_cols_JUL:\n",
    "    dcount.update({i : 0})\n",
    "    davg.update({i : 0})\n",
    "while(n):\n",
    "    col=random.randint(1,7)\n",
    "    row=random.randint(0,457897)\n",
    "    col_list=[]\n",
    "    if(n%2==0):\n",
    "        feature_cols_JUL.reverse()\n",
    "    for i in range(len(feature_cols_JUL)):\n",
    "        if(i<=col):\n",
    "            col_list.append(feature_cols_JUL[i])\n",
    "    XX=data[col_list]\n",
    "    X=XX.iloc[0:row,:]\n",
    "    Y=data.iloc[0:row,34]\n",
    "    reg=LinearRegression()\n",
    "    reg.fit(X,Y)\n",
    "    Coef = pd.Series(reg.coef_,index=col_list)\n",
    "    #print(Coef)\n",
    "    #print()\n",
    "    for index, value in Coef.items():\n",
    "        dcount[index]+=1\n",
    "        davg[index]+=value\n",
    "    n=n-1\n",
    "print(dcount)\n",
    "print(davg)\n",
    "for key,val in davg.items():\n",
    "    temp= dcount[key]\n",
    "    davg[key]=val/temp\n",
    "print(davg)"
   ]
  },
  {
   "cell_type": "code",
   "execution_count": 7,
   "metadata": {},
   "outputs": [],
   "source": [
    "x=data[feature_cols_JUL]\n",
    "y= data['return800']\n",
    "pred=[]\n",
    "for j in range(len(x)):\n",
    "    s=0\n",
    "    for i in x.columns:\n",
    "        m=davg[i]*x.at[j,i]\n",
    "        s+=m\n",
    "    pred.append(s)\n"
   ]
  },
  {
   "cell_type": "code",
   "execution_count": 6,
   "metadata": {},
   "outputs": [
    {
     "name": "stdout",
     "output_type": "stream",
     "text": [
      "457897\n",
      "457897\n",
      "0.05505344046540921\n"
     ]
    }
   ],
   "source": [
    "l1=[]\n",
    "l2=[]\n",
    "for i in range(len(y)):\n",
    "    if(y[i]>0):\n",
    "        l1.append(1)\n",
    "    elif(y[i]<0):\n",
    "        l1.append(-1)\n",
    "    else:\n",
    "        l1.append(0)\n",
    "        \n",
    "for i in range(len(pred)):\n",
    "    if(pred[i]>0):\n",
    "        l2.append(1)\n",
    "    elif(pred[i]<0):\n",
    "        l2.append(-1)\n",
    "    else:\n",
    "        l2.append(0)\n",
    "\n",
    "print(len(l1))\n",
    "print(len(l2))\n",
    "pred= pd.Series(data=pred)\n",
    "pred1 = pd.Series(data=l1)\n",
    "pred2 = pd.Series(data=l2)\n",
    "#corr1 = y_model_1.corr(pred1)\n",
    "#corr2 = y_model_2.corr(pred2)\n",
    "co= pred1.corr(pred2)\n",
    "print(co)"
   ]
  },
  {
   "cell_type": "markdown",
   "metadata": {},
   "source": [
    "##### Predicting return800 values on the basis of new averae weights obtained above"
   ]
  },
  {
   "cell_type": "code",
   "execution_count": 8,
   "metadata": {},
   "outputs": [
    {
     "name": "stdout",
     "output_type": "stream",
     "text": [
      "8033500.013158645\n",
      "52459.237760916716\n",
      "0.0065300600827771175\n"
     ]
    }
   ],
   "source": [
    "ybar = np.mean(y)\n",
    "sst=0\n",
    "ssr=0\n",
    "for i in y:\n",
    "    ss= (i-ybar)**2\n",
    "    sst+=ss\n",
    "print(sst)\n",
    "for i in pred:\n",
    "    ss2= (i-ybar)**2\n",
    "    ssr+=ss2\n",
    "print(ssr)\n",
    "cod= ssr/sst\n",
    "print(cod)"
   ]
  },
  {
   "cell_type": "markdown",
   "metadata": {},
   "source": [
    "###### Instead of taking the average weights , here the average weights are multiplied by some random constants to observe the changes in predicted values"
   ]
  },
  {
   "cell_type": "code",
   "execution_count": 9,
   "metadata": {},
   "outputs": [
    {
     "name": "stdout",
     "output_type": "stream",
     "text": [
      "{'trade': 0.20405610494078094, 'event': 0.009700596255870829, 'ob': 0.21403620060955314, 'bevent': 0.1299418673828545, 'btrade': -0.06577290791652482, 'spreadreturn': 0.0977985905826335, 'niftyidevent': 0.05838997903392235, 'niftyidindex': 0.03568022172623834}\n",
      "{'trade': 0.00371011099892329, 'event': 0.00035274895475893923, 'ob': 0.01167470185143017, 'bevent': 0.009450317627843964, 'btrade': -0.00597935526513862, 'spreadreturn': 0.01066893715446911, 'niftyidevent': 0.007431451877044662, 'niftyidindex': 0.005189850432907395}\n"
     ]
    }
   ],
   "source": [
    "w=[0.1,0.2,0.3,0.4,0.5,0.6,0.7,0.8,0.9,1]\n",
    "print(davg)\n",
    "k=0\n",
    "for i,j in davg.items():\n",
    "    ran=random.randint(0,9)\n",
    "    davg[i]=(davg[i]*w[k])/sum(w)\n",
    "    k+=1\n",
    "print(davg)"
   ]
  },
  {
   "cell_type": "code",
   "execution_count": 11,
   "metadata": {},
   "outputs": [
    {
     "name": "stdout",
     "output_type": "stream",
     "text": [
      "0.05147105162570885\n"
     ]
    }
   ],
   "source": [
    "x=data[feature_cols_JUL]\n",
    "y= data['return800']\n",
    "pred=[]\n",
    "for j in range(len(x)):\n",
    "    s=0\n",
    "    for i in x.columns:\n",
    "        m=davg[i]*x.at[j,i]\n",
    "        s+=m\n",
    "    pred.append(s)\n",
    "pred= pd.Series(data=pred)\n",
    "corre= y.corr(pred)\n",
    "print(corre)"
   ]
  },
  {
   "cell_type": "code",
   "execution_count": 12,
   "metadata": {},
   "outputs": [
    {
     "name": "stdout",
     "output_type": "stream",
     "text": [
      "8033500.013158645\n",
      "232.46308857547223\n",
      "2.8936713536404345e-05\n"
     ]
    }
   ],
   "source": [
    "ybar = np.mean(y)\n",
    "sst=0\n",
    "ssr=0\n",
    "for i in y:\n",
    "    ss= (i-ybar)**2\n",
    "    sst+=ss\n",
    "print(sst)\n",
    "for i in pred:\n",
    "    ss2= (i-ybar)**2\n",
    "    ssr+=ss2\n",
    "print(ssr)\n",
    "cod= ssr/sst\n",
    "print(cod)"
   ]
  },
  {
   "cell_type": "code",
   "execution_count": 39,
   "metadata": {},
   "outputs": [
    {
     "name": "stdout",
     "output_type": "stream",
     "text": [
      "114475\n",
      "114475\n",
      "228950\n",
      "133818\n",
      "41885\n",
      "94935\n",
      "96825\n",
      "73481\n",
      "26481\n",
      "134946\n",
      "147406\n",
      "203337\n",
      "32136\n",
      "{'niftyidindex': 4, 'niftyidevent': 7, 'spreadreturn': 7, 'btrade': 6, 'bevent': 7, 'ob': 7, 'event': 8, 'trade': 7}\n",
      "{'niftyidindex': 0.13135592868356089, 'niftyidevent': 0.6459016082399629, 'spreadreturn': 0.7866197269971704, 'btrade': -0.7212251484869635, 'bevent': 1.4535771650100024, 'ob': 3.32362978130372, 'event': 0.2659205836202352, 'trade': 2.572961496803913}\n",
      "0.035150448341404066\n",
      "{'niftyidindex': 0.03283898217089022, 'niftyidevent': 0.0922716583199947, 'spreadreturn': 0.11237424671388149, 'btrade': -0.12020419141449391, 'bevent': 0.20765388071571464, 'ob': 0.47480425447196, 'event': 0.0332400729525294, 'trade': 0.36756592811484473}\n",
      "[6.008830769566028, 5.086825697102761, 5.621590927172614, 5.704100815648873, 5.313786003928863, 5.028656091580054, 6.013081645898843, 6.028205977795311, 5.923639251802401, 5.031047985855063]\n"
     ]
    }
   ],
   "source": [
    "n=10\n",
    "p=n\n",
    "sco=[]\n",
    "dcount={}\n",
    "davg={}\n",
    "ms=[]\n",
    "intersum=0\n",
    "y=data.iloc[:,34]\n",
    "newpoints1= data.index[data['return800'] >= np.percentile(y,75)].tolist()\n",
    "newpoints2= data.index[data['return800'] <= np.percentile(y,25)].tolist()\n",
    "newpoints= newpoints1 + newpoints2\n",
    "print(len(newpoints1))\n",
    "print(len(newpoints2))\n",
    "newpoints = list(set(newpoints))\n",
    "print(len(newpoints))\n",
    "df= data.iloc[newpoints,:]\n",
    "Xx = df.iloc[newpoints,:]\n",
    "Yy = df.iloc[newpoints,:]\n",
    "reg=LinearRegression()\n",
    "reg.fit(Xx,Yy)\n",
    "\n",
    "for i in feature_cols_JUL:\n",
    "    dcount.update({i : 0})\n",
    "    davg.update({i : 0})\n",
    "while(n):\n",
    "    col=random.randint(1,7)\n",
    "    row=random.randint(0,228950)\n",
    "    col_list=[]\n",
    "    if(n%2==0):\n",
    "        feature_cols_JUL.reverse()\n",
    "    for i in range(len(feature_cols_JUL)):\n",
    "        if(i<=col):\n",
    "            col_list.append(feature_cols_JUL[i])\n",
    "    XX=df[col_list]\n",
    "    X=XX.iloc[0:row,:]\n",
    "    Y=df.iloc[0:row,34]\n",
    "    reg=LinearRegression()\n",
    "    reg.fit(X,Y)\n",
    "    Coef = pd.Series(reg.coef_,index=col_list)\n",
    "    #print(Coef)\n",
    "    #print()\n",
    "    inc = reg.intercept_\n",
    "    intersum+=inc\n",
    "    for index, value in Coef.items():\n",
    "        dcount[index]+=1\n",
    "        davg[index]+=value\n",
    "    from sklearn.metrics import r2_score,mean_squared_error\n",
    "    y_pred = reg.predict(X)\n",
    "    mse=mean_squared_error(Y,y_pred)\n",
    "    rmse= np.sqrt(mse)\n",
    "    ms.append(rmse)\n",
    "    print(len(X))\n",
    "    n=n-1\n",
    "print(dcount)\n",
    "print(davg)\n",
    "for key,val in davg.items():\n",
    "    temp= dcount[key]\n",
    "    davg[key]=val/temp\n",
    "intavg=intersum/p\n",
    "print(intavg)\n",
    "print(davg)\n",
    "print(ms)"
   ]
  },
  {
   "cell_type": "code",
   "execution_count": 36,
   "metadata": {},
   "outputs": [
    {
     "name": "stdout",
     "output_type": "stream",
     "text": [
      "correlation:  0.056577061845175435\n"
     ]
    }
   ],
   "source": [
    "x=data[feature_cols_JUL]\n",
    "y= data['return800']\n",
    "pred=[]\n",
    "for j in range(len(x)):\n",
    "    s=0\n",
    "    for i in x.columns:\n",
    "        m=davg[i]*x.at[j,i]*(1/ms[0])\n",
    "        s+=m\n",
    "    s+=intavg\n",
    "    pred.append(s)\n",
    "pred= pd.Series(data=pred)\n",
    "corre= y.corr(pred)\n",
    "print(\"correlation: \",corre)"
   ]
  },
  {
   "cell_type": "code",
   "execution_count": 37,
   "metadata": {},
   "outputs": [
    {
     "name": "stdout",
     "output_type": "stream",
     "text": [
      "8033500.013158645\n",
      "4813.473758645643\n",
      "cod:  0.000599175172809026\n"
     ]
    }
   ],
   "source": [
    "ybar = np.mean(y)\n",
    "sst=0\n",
    "ssr=0\n",
    "for i in y:\n",
    "    ss= (i-ybar)**2\n",
    "    sst+=ss\n",
    "print(sst)\n",
    "for i in pred:\n",
    "    ss2= (i-ybar)**2\n",
    "    ssr+=ss2\n",
    "print(ssr)\n",
    "cod= ssr/sst\n",
    "print(\"cod: \",cod)"
   ]
  },
  {
   "cell_type": "code",
   "execution_count": null,
   "metadata": {},
   "outputs": [],
   "source": []
  }
 ],
 "metadata": {
  "kernelspec": {
   "display_name": "Python 3",
   "language": "python",
   "name": "python3"
  },
  "language_info": {
   "codemirror_mode": {
    "name": "ipython",
    "version": 3
   },
   "file_extension": ".py",
   "mimetype": "text/x-python",
   "name": "python",
   "nbconvert_exporter": "python",
   "pygments_lexer": "ipython3",
   "version": "3.7.3"
  }
 },
 "nbformat": 4,
 "nbformat_minor": 2
}
