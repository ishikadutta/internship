{
 "cells": [
  {
   "cell_type": "code",
   "execution_count": 1,
   "metadata": {},
   "outputs": [
    {
     "data": {
      "text/plain": [
       "noofticks               0\n",
       "timestamp               0\n",
       "lotsize                 0\n",
       "asset                   0\n",
       "instrumentname          0\n",
       "bid                     0\n",
       "ask                     0\n",
       "spreadbps               0\n",
       "tradeinn                0\n",
       "trade                   0\n",
       "event                   0\n",
       "ob                      0\n",
       "spreadreturn            0\n",
       "btrade                  0\n",
       "bevent                  0\n",
       "bob                     0\n",
       "bspreadeurn             0\n",
       "bindex                  0\n",
       "niftytrade              0\n",
       "niftyidevent            0\n",
       "niftyidob               0\n",
       "niftyidspreadreturn     0\n",
       "niftyidindex            0\n",
       "niftyidbidaskt          0\n",
       "bbidaskt                0\n",
       "bspreadreturn.tValue    0\n",
       "mid                     0\n",
       "shiftmid200             0\n",
       "shiftmid400             0\n",
       "shiftmid600             0\n",
       "shiftmid800             0\n",
       "return200               0\n",
       "return400               0\n",
       "return600               0\n",
       "return800               0\n",
       "dtype: int64"
      ]
     },
     "execution_count": 1,
     "metadata": {},
     "output_type": "execute_result"
    }
   ],
   "source": [
    "import pandas as pd\n",
    "import numpy as np\n",
    "from sklearn.linear_model import LinearRegression\n",
    "data = pd.read_csv(\"BANKNIFTYFUTALL.csv\")\n",
    "feature_cols_JUL = ['trade', 'event', 'ob', 'spreadreturn','btrade','bevent','bspreadeurn','bindex','niftytrade','niftyidevent', 'niftyidob','niftyidspreadreturn','niftyidindex']\n",
    "\n",
    "data.drop([data.index[457897]],inplace=True)\n",
    "data.isnull().sum(axis = 0)"
   ]
  },
  {
   "cell_type": "markdown",
   "metadata": {},
   "source": [
    "##### Performing Linear Regression"
   ]
  },
  {
   "cell_type": "code",
   "execution_count": 5,
   "metadata": {},
   "outputs": [
    {
     "data": {
      "text/plain": [
       "LinearRegression(copy_X=True, fit_intercept=True, n_jobs=None,\n",
       "         normalize=False)"
      ]
     },
     "execution_count": 5,
     "metadata": {},
     "output_type": "execute_result"
    }
   ],
   "source": [
    "X= data[feature_cols_JUL]\n",
    "Y = data.return800\n",
    "reg= LinearRegression()\n",
    "reg.fit(X,Y)"
   ]
  },
  {
   "cell_type": "code",
   "execution_count": 6,
   "metadata": {},
   "outputs": [
    {
     "data": {
      "text/plain": [
       "0.003509212358210667"
      ]
     },
     "execution_count": 6,
     "metadata": {},
     "output_type": "execute_result"
    }
   ],
   "source": [
    "r_sq = reg.score(X,Y)\n",
    "r_sq"
   ]
  },
  {
   "cell_type": "code",
   "execution_count": 7,
   "metadata": {},
   "outputs": [
    {
     "name": "stdout",
     "output_type": "stream",
     "text": [
      "            predict  return800\n",
      "predict    1.000000   0.059239\n",
      "return800  0.059239   1.000000\n"
     ]
    }
   ],
   "source": [
    "data[\"predict\"] = reg.predict(X)\n",
    "print(data[['predict','return800']].corr())"
   ]
  },
  {
   "cell_type": "code",
   "execution_count": 8,
   "metadata": {},
   "outputs": [
    {
     "name": "stdout",
     "output_type": "stream",
     "text": [
      "trade                  0.080230\n",
      "event                  0.071107\n",
      "ob                     0.128572\n",
      "spreadreturn           0.085134\n",
      "btrade                -0.016945\n",
      "bevent                 0.088479\n",
      "bspreadeurn           -0.048780\n",
      "bindex                 0.007328\n",
      "niftytrade             0.004392\n",
      "niftyidevent           0.046049\n",
      "niftyidob             -0.013798\n",
      "niftyidspreadreturn    0.000364\n",
      "niftyidindex           0.019068\n",
      "dtype: float64\n"
     ]
    }
   ],
   "source": [
    "Coef = pd.Series(reg.coef_,index=feature_cols_JUL)\n",
    "print(Coef)"
   ]
  },
  {
   "cell_type": "markdown",
   "metadata": {},
   "source": [
    "##### Performing Linear Regression by splitting the data into train and test set"
   ]
  },
  {
   "cell_type": "code",
   "execution_count": 9,
   "metadata": {},
   "outputs": [
    {
     "data": {
      "text/plain": [
       "((366317, 13), (91580, 13), (366317,), (91580,))"
      ]
     },
     "execution_count": 9,
     "metadata": {},
     "output_type": "execute_result"
    }
   ],
   "source": [
    "from sklearn.model_selection import train_test_split\n",
    "x_train,x_test,y_train,y_test= train_test_split(X,Y,test_size=0.2,random_state=88)\n",
    "x_train.shape,x_test.shape,y_train.shape,y_test.shape"
   ]
  },
  {
   "cell_type": "code",
   "execution_count": 10,
   "metadata": {},
   "outputs": [
    {
     "data": {
      "text/plain": [
       "0.03495223161830502"
      ]
     },
     "execution_count": 10,
     "metadata": {},
     "output_type": "execute_result"
    }
   ],
   "source": [
    "from sklearn.linear_model import LinearRegression\n",
    "reg = LinearRegression()\n",
    "reg.fit(x_train,y_train)\n",
    "reg.intercept_"
   ]
  },
  {
   "cell_type": "code",
   "execution_count": 11,
   "metadata": {},
   "outputs": [
    {
     "data": {
      "text/plain": [
       "array([ 0.07868083,  0.07191404,  0.1331837 ,  0.08280525, -0.01827936,\n",
       "        0.09151793, -0.05455947,  0.00935661,  0.00204851,  0.04559824,\n",
       "       -0.01199224,  0.00504971,  0.02110671])"
      ]
     },
     "execution_count": 11,
     "metadata": {},
     "output_type": "execute_result"
    }
   ],
   "source": [
    "reg.coef_"
   ]
  },
  {
   "cell_type": "code",
   "execution_count": 12,
   "metadata": {},
   "outputs": [
    {
     "data": {
      "text/plain": [
       "0.003136894795351619"
      ]
     },
     "execution_count": 12,
     "metadata": {},
     "output_type": "execute_result"
    }
   ],
   "source": [
    "from sklearn.metrics import r2_score,mean_squared_error\n",
    "y_pred = reg.predict(x_test)\n",
    "mse=mean_squared_error(y_test,y_pred)\n",
    "rmse= np.sqrt(mse)\n",
    "rmse\n",
    "r2_score(y_test,y_pred)"
   ]
  },
  {
   "cell_type": "code",
   "execution_count": 13,
   "metadata": {},
   "outputs": [
    {
     "data": {
      "text/plain": [
       "0.003136894795351619"
      ]
     },
     "execution_count": 13,
     "metadata": {},
     "output_type": "execute_result"
    }
   ],
   "source": [
    "reg.score(x_test,y_test)"
   ]
  },
  {
   "cell_type": "code",
   "execution_count": 14,
   "metadata": {},
   "outputs": [
    {
     "data": {
      "text/plain": [
       "0.003595254580356033"
      ]
     },
     "execution_count": 14,
     "metadata": {},
     "output_type": "execute_result"
    }
   ],
   "source": [
    "reg.score(x_train,y_train)"
   ]
  },
  {
   "cell_type": "code",
   "execution_count": 16,
   "metadata": {},
   "outputs": [
    {
     "name": "stdout",
     "output_type": "stream",
     "text": [
      "                            OLS Regression Results                            \n",
      "==============================================================================\n",
      "Dep. Variable:              return800   R-squared:                       0.004\n",
      "Model:                            OLS   Adj. R-squared:                  0.003\n",
      "Method:                 Least Squares   F-statistic:                     124.0\n",
      "Date:                Mon, 28 Sep 2020   Prob (F-statistic):               0.00\n",
      "Time:                        15:05:41   Log-Likelihood:            -1.3048e+06\n",
      "No. Observations:              457897   AIC:                         2.610e+06\n",
      "Df Residuals:                  457883   BIC:                         2.610e+06\n",
      "Df Model:                          13                                         \n",
      "Covariance Type:            nonrobust                                         \n",
      "=======================================================================================\n",
      "                          coef    std err          t      P>|t|      [0.025      0.975]\n",
      "---------------------------------------------------------------------------------------\n",
      "Intercept               0.0296      0.010      3.057      0.002       0.011       0.049\n",
      "trade                   0.0802      0.008     10.175      0.000       0.065       0.096\n",
      "event                   0.0711      0.009      7.964      0.000       0.054       0.089\n",
      "ob                      0.1286      0.007     17.285      0.000       0.114       0.143\n",
      "spreadreturn            0.0851      0.008     10.384      0.000       0.069       0.101\n",
      "btrade                 -0.0169      0.008     -2.108      0.035      -0.033      -0.001\n",
      "bevent                  0.0885      0.008     10.922      0.000       0.073       0.104\n",
      "bspreadeurn            -0.0488      0.009     -5.702      0.000      -0.066      -0.032\n",
      "bindex                  0.0073      0.006      1.257      0.209      -0.004       0.019\n",
      "niftytrade              0.0044      0.007      0.610      0.542      -0.010       0.019\n",
      "niftyidevent            0.0460      0.007      6.902      0.000       0.033       0.059\n",
      "niftyidob              -0.0138      0.007     -1.888      0.059      -0.028       0.001\n",
      "niftyidspreadreturn     0.0004      0.008      0.044      0.965      -0.016       0.016\n",
      "niftyidindex            0.0191      0.005      4.025      0.000       0.010       0.028\n",
      "==============================================================================\n",
      "Omnibus:                      544.999   Durbin-Watson:                   1.776\n",
      "Prob(Omnibus):                  0.000   Jarque-Bera (JB):              467.465\n",
      "Skew:                          -0.017   Prob(JB):                    3.10e-102\n",
      "Kurtosis:                       2.847   Cond. No.                         4.51\n",
      "==============================================================================\n",
      "\n",
      "Warnings:\n",
      "[1] Standard Errors assume that the covariance matrix of the errors is correctly specified.\n"
     ]
    }
   ],
   "source": [
    "from statsmodels.formula.api import ols\n",
    "reg1 = ols(formula=\"return800~trade+event+ob+spreadreturn+btrade+bevent+bspreadeurn+bindex+niftytrade+niftyidevent+niftyidob+niftyidspreadreturn+niftyidindex \",data=data)\n",
    "fit1= reg1.fit()\n",
    "print(fit1.summary())"
   ]
  },
  {
   "cell_type": "markdown",
   "metadata": {},
   "source": [
    "#### From the above Regression Results we can conclude that:\n",
    "\n",
    "- p-value for \"bindex\", 'niftytrade', niftyidob' and \"niftyidspreadreturn\" is greater than 0.05(signigicance level)\n",
    "- Observing the confidence interval range we can see that for bindex\", 'niftytrade', niftyidob' and \"niftyidspreadreturn\" zero comes in between which also states that these columns are not giving us best results\n",
    "- So to make our model better we try to remove those columns and observe the results accordingly\n",
    "- Hence, we are performing Forward Inclusion and omiiting the columns which are not giving us best results\n",
    "\n"
   ]
  },
  {
   "cell_type": "code",
   "execution_count": 31,
   "metadata": {},
   "outputs": [],
   "source": [
    "import statsmodels.formula.api as smf\n",
    "def forward_inclusion(data,input_col,response):\n",
    "    remaining=set(input_col)\n",
    "    selected=[]\n",
    "    lower=[]\n",
    "    for col in remaining:\n",
    "        formula = \"{} ~ {} \".format(response,' + '.join(selected + [col]))\n",
    "        selected.append(col)\n",
    "        score = smf.ols(formula, data).fit().pvalues\n",
    "        #score.drop(['Intercept'])\n",
    "        score2=list(score)\n",
    "        for i in score2:\n",
    "            if(i>0.05):\n",
    "                var = score[score == i].index[0]\n",
    "                lower.append(var)\n",
    "    final=set(selected)-set(lower)\n",
    "    formula = \"{} ~ {} \".format(response,' + '.join(final))\n",
    "    model = smf.ols(formula, data).fit()\n",
    "    return model"
   ]
  },
  {
   "cell_type": "code",
   "execution_count": 32,
   "metadata": {},
   "outputs": [
    {
     "name": "stdout",
     "output_type": "stream",
     "text": [
      "return800 ~ niftyidindex + event + spreadreturn + ob + bevent + trade + niftyidevent + btrade \n"
     ]
    }
   ],
   "source": [
    "model = forward_inclusion(data,feature_cols_JUL,'return800')\n",
    "print(model.model.formula)"
   ]
  },
  {
   "cell_type": "code",
   "execution_count": 33,
   "metadata": {},
   "outputs": [
    {
     "name": "stdout",
     "output_type": "stream",
     "text": [
      "                            OLS Regression Results                            \n",
      "==============================================================================\n",
      "Dep. Variable:              return800   R-squared:                       0.003\n",
      "Model:                            OLS   Adj. R-squared:                  0.003\n",
      "Method:                 Least Squares   F-statistic:                     196.4\n",
      "Date:                Mon, 28 Sep 2020   Prob (F-statistic):               0.00\n",
      "Time:                        15:29:56   Log-Likelihood:            -1.3048e+06\n",
      "No. Observations:              457897   AIC:                         2.610e+06\n",
      "Df Residuals:                  457888   BIC:                         2.610e+06\n",
      "Df Model:                           8                                         \n",
      "Covariance Type:            nonrobust                                         \n",
      "================================================================================\n",
      "                   coef    std err          t      P>|t|      [0.025      0.975]\n",
      "--------------------------------------------------------------------------------\n",
      "Intercept        0.0248      0.008      2.958      0.003       0.008       0.041\n",
      "niftyidindex     0.0217      0.005      4.778      0.000       0.013       0.031\n",
      "event            0.0755      0.009      8.510      0.000       0.058       0.093\n",
      "spreadreturn     0.0580      0.007      8.693      0.000       0.045       0.071\n",
      "ob               0.1307      0.007     17.617      0.000       0.116       0.145\n",
      "bevent           0.0838      0.008     10.454      0.000       0.068       0.100\n",
      "trade            0.0808      0.008     10.286      0.000       0.065       0.096\n",
      "niftyidevent     0.0517      0.006      8.320      0.000       0.039       0.064\n",
      "btrade          -0.0167      0.008     -2.090      0.037      -0.032      -0.001\n",
      "==============================================================================\n",
      "Omnibus:                      546.465   Durbin-Watson:                   1.776\n",
      "Prob(Omnibus):                  0.000   Jarque-Bera (JB):              469.459\n",
      "Skew:                          -0.019   Prob(JB):                    1.14e-102\n",
      "Kurtosis:                       2.848   Cond. No.                         3.62\n",
      "==============================================================================\n",
      "\n",
      "Warnings:\n",
      "[1] Standard Errors assume that the covariance matrix of the errors is correctly specified.\n"
     ]
    }
   ],
   "source": [
    "from statsmodels.formula.api import ols\n",
    "reg1 = ols(formula=model.model.formula,data=data)\n",
    "fit1= reg1.fit()\n",
    "print(fit1.summary())"
   ]
  },
  {
   "cell_type": "markdown",
   "metadata": {},
   "source": [
    "##### From tha above OLS Regression resuts we can also conclude that overall Significance(F-Statistic) of the model has increased\n",
    "\n",
    "Performing Linear Regression for updated columns\n"
   ]
  },
  {
   "cell_type": "code",
   "execution_count": 34,
   "metadata": {},
   "outputs": [],
   "source": [
    "feature_cols_JUL = ['trade', 'event', 'ob', 'bevent','btrade','spreadreturn', 'niftyidevent','niftyidindex']\n",
    "X= data[feature_cols_JUL]\n",
    "Y = data.return800"
   ]
  },
  {
   "cell_type": "code",
   "execution_count": 35,
   "metadata": {},
   "outputs": [
    {
     "data": {
      "text/plain": [
       "((366317, 8), (91580, 8), (366317,), (91580,))"
      ]
     },
     "execution_count": 35,
     "metadata": {},
     "output_type": "execute_result"
    }
   ],
   "source": [
    "from sklearn.model_selection import train_test_split\n",
    "x_train,x_test,y_train,y_test= train_test_split(X,Y,test_size=0.2,random_state=88)\n",
    "x_train.shape,x_test.shape,y_train.shape,y_test.shape\n"
   ]
  },
  {
   "cell_type": "code",
   "execution_count": 36,
   "metadata": {},
   "outputs": [
    {
     "data": {
      "text/plain": [
       "LinearRegression(copy_X=True, fit_intercept=True, n_jobs=None,\n",
       "         normalize=False)"
      ]
     },
     "execution_count": 36,
     "metadata": {},
     "output_type": "execute_result"
    }
   ],
   "source": [
    "from sklearn.linear_model import LinearRegression\n",
    "reg = LinearRegression()\n",
    "reg.fit(x_train,y_train)"
   ]
  },
  {
   "cell_type": "code",
   "execution_count": 37,
   "metadata": {},
   "outputs": [
    {
     "data": {
      "text/plain": [
       "0.003127725956926341"
      ]
     },
     "execution_count": 37,
     "metadata": {},
     "output_type": "execute_result"
    }
   ],
   "source": [
    "reg.score(x_test,y_test)"
   ]
  },
  {
   "cell_type": "code",
   "execution_count": 38,
   "metadata": {},
   "outputs": [
    {
     "data": {
      "text/plain": [
       "0.0034872472944075246"
      ]
     },
     "execution_count": 38,
     "metadata": {},
     "output_type": "execute_result"
    }
   ],
   "source": [
    "reg.score(x_train,y_train)"
   ]
  },
  {
   "cell_type": "code",
   "execution_count": 39,
   "metadata": {},
   "outputs": [
    {
     "name": "stdout",
     "output_type": "stream",
     "text": [
      "                    predict_after_elim  return800\n",
      "predict_after_elim            1.000000   0.058443\n",
      "return800                     0.058443   1.000000\n"
     ]
    }
   ],
   "source": [
    "data[\"predict_after_elim\"] = reg.predict(X)\n",
    "print(data[['predict_after_elim','return800']].corr())"
   ]
  },
  {
   "cell_type": "code",
   "execution_count": 40,
   "metadata": {},
   "outputs": [
    {
     "data": {
      "text/plain": [
       "LinearRegression(copy_X=True, fit_intercept=True, n_jobs=None,\n",
       "         normalize=False)"
      ]
     },
     "execution_count": 40,
     "metadata": {},
     "output_type": "execute_result"
    }
   ],
   "source": [
    "#Performing Regression on X and Y \n",
    "reg2= LinearRegression()\n",
    "reg2.fit(X,Y)"
   ]
  },
  {
   "cell_type": "code",
   "execution_count": 41,
   "metadata": {},
   "outputs": [
    {
     "name": "stdout",
     "output_type": "stream",
     "text": [
      "coefficient of determination: 0.0034188210916376027\n"
     ]
    }
   ],
   "source": [
    "r_sq = reg2.score(X,Y)\n",
    "print('coefficient of determination:', r_sq)"
   ]
  },
  {
   "cell_type": "code",
   "execution_count": 42,
   "metadata": {},
   "outputs": [
    {
     "name": "stdout",
     "output_type": "stream",
     "text": [
      "                     predict2_after_elim  return800\n",
      "predict2_after_elim             1.000000   0.058471\n",
      "return800                       0.058471   1.000000\n"
     ]
    }
   ],
   "source": [
    "data[\"predict2_after_elim\"] = reg2.predict(X)\n",
    "print(data[['predict2_after_elim','return800']].corr())"
   ]
  },
  {
   "cell_type": "markdown",
   "metadata": {},
   "source": [
    "##### Performing Backward Elimination \n",
    "Backward Elimination consists of the following steps:\n",
    "\n",
    "- Select a significance level to stay in the model (eg. SL = 0.05)\n",
    "- Fit the model with all possible predictors\n",
    "- Consider the predictor with the highest P-value. If P>SL, remove the predictor.\n",
    "- Fit the model without this variable and repeat the step 3 until the condition becomes false.\n"
   ]
  },
  {
   "cell_type": "code",
   "execution_count": 43,
   "metadata": {},
   "outputs": [],
   "source": [
    "#Backward elimination\n",
    "import statsmodels.formula.api as smf\n",
    "def backward_elimination(data,input_col,response):\n",
    "    selected=list(input_col)\n",
    "    lower=[]\n",
    "    formula = \"{} ~ {} \".format(response,' + '.join(selected))\n",
    "    score = smf.ols(formula, data).fit().pvalues\n",
    "        #score.drop(['Intercept'])\n",
    "    score2=list(score)\n",
    "    for i in score2:\n",
    "        if(i>0.05):\n",
    "            var = score[score == i].index[0]\n",
    "            lower.append(var)\n",
    "    final=set(selected)-set(lower)\n",
    "    formula = \"{} ~ {} \".format(response,' + '.join(final))\n",
    "    model = smf.ols(formula, data).fit()\n",
    "    return model"
   ]
  },
  {
   "cell_type": "markdown",
   "metadata": {},
   "source": [
    "##### Calling the Backward elimination method which performs backward elimination and returns the columns which will produce better results."
   ]
  },
  {
   "cell_type": "code",
   "execution_count": 44,
   "metadata": {},
   "outputs": [
    {
     "name": "stdout",
     "output_type": "stream",
     "text": [
      "return800 ~ event + spreadreturn + niftyidindex + ob + bevent + trade + niftyidevent + btrade \n"
     ]
    }
   ],
   "source": [
    "feature_cols_JUL = ['trade', 'event', 'ob', 'bevent','btrade','spreadreturn', 'niftyidevent','niftyidindex']\n",
    "model = backward_elimination(data,feature_cols_JUL,'return800')\n",
    "print(model.model.formula)"
   ]
  },
  {
   "cell_type": "markdown",
   "metadata": {},
   "source": [
    "##### Conclusion : We got the same columns by performing Backward elimination as we got in Forward Inclusion"
   ]
  },
  {
   "cell_type": "markdown",
   "metadata": {},
   "source": [
    "#### Fitting the model for higher returns only"
   ]
  },
  {
   "cell_type": "code",
   "execution_count": 46,
   "metadata": {},
   "outputs": [
    {
     "name": "stdout",
     "output_type": "stream",
     "text": [
      "rsquare:  0.04443068029821461\n"
     ]
    }
   ],
   "source": [
    "import pandas as pd\n",
    "import numpy as np\n",
    "from sklearn.linear_model import LinearRegression\n",
    "data = pd.read_csv(\"BANKNIFTYFUTALL.csv\")\n",
    "data.drop([data.index[457897]],inplace=True)\n",
    "x=data.return800\n",
    "\n",
    "newpoints= data.index[data['return800'] >= np.percentile(x,75)].tolist()\n",
    "df= data.iloc[newpoints,:]\n",
    "\n",
    "feature_cols_JUL = ['trade', 'event', 'ob', 'spreadreturn','btrade','bevent','bspreadeurn','bindex','niftytrade','niftyidevent', 'niftyidob','niftyidspreadreturn','niftyidindex']\n",
    "\n",
    "X= df[feature_cols_JUL]\n",
    "Y = df.return800\n",
    "reg= LinearRegression()\n",
    "reg.fit(X,Y)\n",
    "r_sq = reg.score(X,Y)\n",
    "print(\"rsquare: \",r_sq)"
   ]
  },
  {
   "cell_type": "code",
   "execution_count": 47,
   "metadata": {},
   "outputs": [
    {
     "name": "stderr",
     "output_type": "stream",
     "text": [
      "/home/ishika/anaconda3/lib/python3.7/site-packages/ipykernel_launcher.py:1: SettingWithCopyWarning: \n",
      "A value is trying to be set on a copy of a slice from a DataFrame.\n",
      "Try using .loc[row_indexer,col_indexer] = value instead\n",
      "\n",
      "See the caveats in the documentation: http://pandas.pydata.org/pandas-docs/stable/indexing.html#indexing-view-versus-copy\n",
      "  \"\"\"Entry point for launching an IPython kernel.\n"
     ]
    },
    {
     "name": "stdout",
     "output_type": "stream",
     "text": [
      "            predict  return800\n",
      "predict    1.000000   0.210786\n",
      "return800  0.210786   1.000000\n"
     ]
    }
   ],
   "source": [
    "df[\"predict\"] = reg.predict(X)\n",
    "print(df[['predict','return800']].corr())"
   ]
  },
  {
   "cell_type": "code",
   "execution_count": 49,
   "metadata": {},
   "outputs": [
    {
     "name": "stdout",
     "output_type": "stream",
     "text": [
      "r_square : 0.04792163129190674\n"
     ]
    }
   ],
   "source": [
    "import pandas as pd\n",
    "import numpy as np\n",
    "from sklearn.linear_model import LinearRegression\n",
    "data = pd.read_csv(\"BANKNIFTYFUTALL.csv\")\n",
    "data.drop([data.index[457897]],inplace=True)\n",
    "x=data.return800\n",
    "\n",
    "newpoints= data.index[data['return800'] <= np.percentile(x,25)].tolist()\n",
    "df= data.iloc[newpoints,:]\n",
    "\n",
    "\n",
    "feature_cols_JUL = ['trade', 'event', 'ob', 'spreadreturn','btrade','bevent','bspreadeurn','bindex','niftytrade','niftyidevent', 'niftyidob','niftyidspreadreturn','niftyidindex']\n",
    "\n",
    "X= df[feature_cols_JUL]\n",
    "Y = df.return800\n",
    "reg= LinearRegression()\n",
    "reg.fit(X,Y)\n",
    "r_sq = reg.score(X,Y)\n",
    "print(\"r_square :\",r_sq)"
   ]
  },
  {
   "cell_type": "code",
   "execution_count": null,
   "metadata": {},
   "outputs": [],
   "source": []
  }
 ],
 "metadata": {
  "kernelspec": {
   "display_name": "Python 3",
   "language": "python",
   "name": "python3"
  },
  "language_info": {
   "codemirror_mode": {
    "name": "ipython",
    "version": 3
   },
   "file_extension": ".py",
   "mimetype": "text/x-python",
   "name": "python",
   "nbconvert_exporter": "python",
   "pygments_lexer": "ipython3",
   "version": "3.7.3"
  }
 },
 "nbformat": 4,
 "nbformat_minor": 2
}
