{
 "cells": [
  {
   "cell_type": "code",
   "execution_count": 1,
   "metadata": {},
   "outputs": [],
   "source": [
    "import numpy as np\n",
    "import pandas as pd"
   ]
  },
  {
   "cell_type": "code",
   "execution_count": 2,
   "metadata": {},
   "outputs": [
    {
     "name": "stdout",
     "output_type": "stream",
     "text": [
      "    S.No.  MTE (25)  Mini Project (25)  Total (50)  ETE (50)  Total\n",
      "0       1      5.00                 20       25.00     12.00  37.00\n",
      "1       2     11.05                 20       31.05     26.00  57.05\n",
      "2       3      8.10                 20       28.10     14.00  42.10\n",
      "3       4      6.00                 10       16.00     13.00  29.00\n",
      "4       5     11.35                 20       31.35     17.00  48.35\n",
      "5       6     11.00                 20       31.00     24.00  55.00\n",
      "6       7     10.50                 15       25.50     18.00  43.50\n",
      "7       8      9.00                 15       24.00     14.00  38.00\n",
      "8       9      4.00                 15       19.00     19.00  38.00\n",
      "9      14      8.50                 10       18.50     13.00  31.50\n",
      "10     10     12.50                 15       27.50     18.00  45.50\n",
      "11     11     16.55                 15       31.55     11.00  42.55\n",
      "12     12      8.20                 22       30.20     21.00  51.20\n",
      "13     13     11.00                 22       33.00     18.25  51.25\n",
      "14     16      9.50                 10       19.50     22.00  41.50\n",
      "15     17     12.75                 22       34.75     29.00  63.75\n",
      "16     18      6.00                 10       16.00     12.00  28.00\n",
      "17     19      1.70                 10       11.70     14.00  25.70\n",
      "18     20      5.05                 10       15.05     11.00  26.05\n",
      "19     21      3.70                 10       13.70     19.00  32.70\n",
      "20     22      9.70                 10       19.70     23.00  42.70\n",
      "21     15     19.10                 22       41.10     33.00  74.10\n",
      "22     23     17.00                 22       39.00     22.00  61.00\n",
      "23     24     12.80                 10       22.80     35.00  57.80\n",
      "24     26     22.50                 22       44.50     50.00  94.50\n",
      "25     27     23.50                 22       45.50     47.00  92.50\n",
      "26     44     19.00                 22       41.00     30.00  71.00\n",
      "27     28     13.05                 22       35.05     24.00  59.05\n",
      "28     29     14.80                 22       36.80     27.00  63.80\n",
      "29     45     12.00                 12       24.00     20.00  44.00\n",
      "..    ...       ...                ...         ...       ...    ...\n",
      "49     50     13.10                 15       28.10     22.00  50.10\n",
      "50     51      8.65                 15       23.65     22.00  45.65\n",
      "51     52     16.50                 15       31.50     23.00  54.50\n",
      "52     53     12.90                 22       34.90     20.00  54.90\n",
      "53     54      9.50                 15       24.50     19.00  43.50\n",
      "54     55      3.50                 15       18.50     17.00  35.50\n",
      "55     56      7.70                 15       22.70     17.00  39.70\n",
      "56     57      5.55                 15       20.55     16.00  36.55\n",
      "57     58      7.30                 15       22.30     22.00  44.30\n",
      "58     59     10.15                 10       20.15     22.00  42.15\n",
      "59     60     14.35                 15       29.35     19.00  48.35\n",
      "60     61      4.50                 15       19.50     18.00  37.50\n",
      "61     62     14.00                 15       29.00     20.00  49.00\n",
      "62     63      4.70                 15       19.70     23.00  42.70\n",
      "63     64      8.00                 15       23.00     12.00  35.00\n",
      "64     65     10.30                 15       25.30     17.00  42.30\n",
      "65     66      5.85                 10       15.85     24.00  39.85\n",
      "66     67      7.00                 22       29.00     12.00  41.00\n",
      "67     68      7.00                 10       17.00     16.00  33.00\n",
      "68     69      9.50                 10       19.50     11.00  30.50\n",
      "69     70      8.00                 10       18.00     23.00  41.00\n",
      "70     71     15.40                 22       37.40     18.00  55.40\n",
      "71     72      1.20                 10       11.20      9.00  20.20\n",
      "72     73      4.90                 15       19.90     20.00  39.90\n",
      "73     74      1.00                 16       17.00      7.00  24.00\n",
      "74     75     12.05                 10       22.05     20.00  42.05\n",
      "75     76     12.25                 10       22.25     28.00  50.25\n",
      "76     77      1.75                 10       11.75       NaN   0.00\n",
      "77     78      3.00                 10       13.00       NaN   0.00\n",
      "78     79      5.80                 10       15.80     12.00  27.80\n",
      "\n",
      "[79 rows x 6 columns]\n"
     ]
    }
   ],
   "source": [
    "path=\"IBM-313 Marks.xlsx\"\n",
    "table=pd.read_excel(path)\n",
    "print(table)"
   ]
  },
  {
   "cell_type": "code",
   "execution_count": 4,
   "metadata": {},
   "outputs": [
    {
     "data": {
      "text/html": [
       "<div>\n",
       "<style scoped>\n",
       "    .dataframe tbody tr th:only-of-type {\n",
       "        vertical-align: middle;\n",
       "    }\n",
       "\n",
       "    .dataframe tbody tr th {\n",
       "        vertical-align: top;\n",
       "    }\n",
       "\n",
       "    .dataframe thead th {\n",
       "        text-align: right;\n",
       "    }\n",
       "</style>\n",
       "<table border=\"1\" class=\"dataframe\">\n",
       "  <thead>\n",
       "    <tr style=\"text-align: right;\">\n",
       "      <th></th>\n",
       "      <th>S.No.</th>\n",
       "      <th>MTE (25)</th>\n",
       "      <th>Mini Project (25)</th>\n",
       "      <th>Total (50)</th>\n",
       "      <th>ETE (50)</th>\n",
       "      <th>Total</th>\n",
       "    </tr>\n",
       "  </thead>\n",
       "  <tbody>\n",
       "    <tr>\n",
       "      <th>count</th>\n",
       "      <td>79.000000</td>\n",
       "      <td>79.000000</td>\n",
       "      <td>79.000000</td>\n",
       "      <td>79.000000</td>\n",
       "      <td>77.000000</td>\n",
       "      <td>79.000000</td>\n",
       "    </tr>\n",
       "    <tr>\n",
       "      <th>mean</th>\n",
       "      <td>40.000000</td>\n",
       "      <td>10.178481</td>\n",
       "      <td>16.556962</td>\n",
       "      <td>26.735443</td>\n",
       "      <td>21.016234</td>\n",
       "      <td>46.906329</td>\n",
       "    </tr>\n",
       "    <tr>\n",
       "      <th>std</th>\n",
       "      <td>22.949219</td>\n",
       "      <td>4.961924</td>\n",
       "      <td>4.900934</td>\n",
       "      <td>8.504976</td>\n",
       "      <td>8.091209</td>\n",
       "      <td>16.314119</td>\n",
       "    </tr>\n",
       "    <tr>\n",
       "      <th>min</th>\n",
       "      <td>1.000000</td>\n",
       "      <td>0.700000</td>\n",
       "      <td>10.000000</td>\n",
       "      <td>11.200000</td>\n",
       "      <td>7.000000</td>\n",
       "      <td>0.000000</td>\n",
       "    </tr>\n",
       "    <tr>\n",
       "      <th>25%</th>\n",
       "      <td>20.500000</td>\n",
       "      <td>6.500000</td>\n",
       "      <td>11.000000</td>\n",
       "      <td>19.600000</td>\n",
       "      <td>17.000000</td>\n",
       "      <td>38.000000</td>\n",
       "    </tr>\n",
       "    <tr>\n",
       "      <th>50%</th>\n",
       "      <td>40.000000</td>\n",
       "      <td>10.300000</td>\n",
       "      <td>15.000000</td>\n",
       "      <td>27.500000</td>\n",
       "      <td>20.000000</td>\n",
       "      <td>45.000000</td>\n",
       "    </tr>\n",
       "    <tr>\n",
       "      <th>75%</th>\n",
       "      <td>59.500000</td>\n",
       "      <td>12.975000</td>\n",
       "      <td>22.000000</td>\n",
       "      <td>33.250000</td>\n",
       "      <td>24.000000</td>\n",
       "      <td>55.375000</td>\n",
       "    </tr>\n",
       "    <tr>\n",
       "      <th>max</th>\n",
       "      <td>79.000000</td>\n",
       "      <td>23.500000</td>\n",
       "      <td>22.000000</td>\n",
       "      <td>45.500000</td>\n",
       "      <td>50.000000</td>\n",
       "      <td>94.500000</td>\n",
       "    </tr>\n",
       "  </tbody>\n",
       "</table>\n",
       "</div>"
      ],
      "text/plain": [
       "           S.No.   MTE (25)  Mini Project (25)  Total (50)   ETE (50)  \\\n",
       "count  79.000000  79.000000          79.000000   79.000000  77.000000   \n",
       "mean   40.000000  10.178481          16.556962   26.735443  21.016234   \n",
       "std    22.949219   4.961924           4.900934    8.504976   8.091209   \n",
       "min     1.000000   0.700000          10.000000   11.200000   7.000000   \n",
       "25%    20.500000   6.500000          11.000000   19.600000  17.000000   \n",
       "50%    40.000000  10.300000          15.000000   27.500000  20.000000   \n",
       "75%    59.500000  12.975000          22.000000   33.250000  24.000000   \n",
       "max    79.000000  23.500000          22.000000   45.500000  50.000000   \n",
       "\n",
       "           Total  \n",
       "count  79.000000  \n",
       "mean   46.906329  \n",
       "std    16.314119  \n",
       "min     0.000000  \n",
       "25%    38.000000  \n",
       "50%    45.000000  \n",
       "75%    55.375000  \n",
       "max    94.500000  "
      ]
     },
     "execution_count": 4,
     "metadata": {},
     "output_type": "execute_result"
    }
   ],
   "source": [
    "table.describe()\n"
   ]
  },
  {
   "cell_type": "code",
   "execution_count": 5,
   "metadata": {},
   "outputs": [
    {
     "data": {
      "text/plain": [
       "46.90632911392405"
      ]
     },
     "execution_count": 5,
     "metadata": {},
     "output_type": "execute_result"
    }
   ],
   "source": [
    "x= table['Total']\n",
    "np.mean(x)"
   ]
  },
  {
   "cell_type": "code",
   "execution_count": 6,
   "metadata": {},
   "outputs": [
    {
     "data": {
      "text/plain": [
       "45.0"
      ]
     },
     "execution_count": 6,
     "metadata": {},
     "output_type": "execute_result"
    }
   ],
   "source": [
    "np.median(x)"
   ]
  },
  {
   "cell_type": "code",
   "execution_count": 7,
   "metadata": {},
   "outputs": [
    {
     "data": {
      "text/plain": [
       "ModeResult(mode=array([0.]), count=array([2]))"
      ]
     },
     "execution_count": 7,
     "metadata": {},
     "output_type": "execute_result"
    }
   ],
   "source": [
    "import scipy\n",
    "from scipy import stats\n",
    "stats.mode(x)"
   ]
  },
  {
   "cell_type": "code",
   "execution_count": 8,
   "metadata": {},
   "outputs": [
    {
     "name": "stdout",
     "output_type": "stream",
     "text": [
      "3.0\n"
     ]
    },
    {
     "data": {
      "text/plain": [
       "2.2"
      ]
     },
     "execution_count": 8,
     "metadata": {},
     "output_type": "execute_result"
    }
   ],
   "source": [
    "a=np.array([1,2,3,4,5])\n",
    "p=np.percentile(a,50)\n",
    "q=np.percentile(a,30)\n",
    "print(p)\n",
    "q"
   ]
  },
  {
   "cell_type": "code",
   "execution_count": 10,
   "metadata": {},
   "outputs": [
    {
     "name": "stdout",
     "output_type": "stream",
     "text": [
      "38.0\n",
      "45.0\n",
      "55.375\n",
      "17.375\n"
     ]
    }
   ],
   "source": [
    "q1=np.percentile(x,25)\n",
    "print(q1)\n",
    "q2=np.percentile(x,50)\n",
    "print(q2)\n",
    "q3=np.percentile(x,75)\n",
    "print(q3)\n",
    "iq=q3-q1\n",
    "print(iq)"
   ]
  },
  {
   "cell_type": "code",
   "execution_count": 20,
   "metadata": {},
   "outputs": [
    {
     "data": {
      "text/plain": [
       "262.78147892965876"
      ]
     },
     "execution_count": 20,
     "metadata": {},
     "output_type": "execute_result"
    }
   ],
   "source": [
    "#for variance\n",
    "np.var(x)"
   ]
  },
  {
   "cell_type": "code",
   "execution_count": 11,
   "metadata": {},
   "outputs": [
    {
     "data": {
      "text/plain": [
       "16.210536046955966"
      ]
     },
     "execution_count": 11,
     "metadata": {},
     "output_type": "execute_result"
    }
   ],
   "source": [
    "#population standard deviation\n",
    "import statistics\n",
    "statistics.pstdev(x)"
   ]
  },
  {
   "cell_type": "code",
   "execution_count": 12,
   "metadata": {},
   "outputs": [
    {
     "data": {
      "text/plain": [
       "16.31411880088133"
      ]
     },
     "execution_count": 12,
     "metadata": {},
     "output_type": "execute_result"
    }
   ],
   "source": [
    "#standard deviation\n",
    "statistics.stdev(x)"
   ]
  },
  {
   "cell_type": "code",
   "execution_count": 13,
   "metadata": {},
   "outputs": [
    {
     "data": {
      "text/plain": [
       "16.210536046955966"
      ]
     },
     "execution_count": 13,
     "metadata": {},
     "output_type": "execute_result"
    }
   ],
   "source": [
    "np.std(x)"
   ]
  },
  {
   "cell_type": "code",
   "execution_count": 14,
   "metadata": {},
   "outputs": [
    {
     "data": {
      "text/plain": [
       "0.10226407464884266"
      ]
     },
     "execution_count": 14,
     "metadata": {},
     "output_type": "execute_result"
    }
   ],
   "source": [
    "#positive value eans right skewed data\n",
    "from scipy.stats import skew\n",
    "skew(x)"
   ]
  },
  {
   "cell_type": "code",
   "execution_count": 38,
   "metadata": {},
   "outputs": [
    {
     "data": {
      "image/png": "[encoded data removed]",
      "text/plain": [
       "<Figure size 432x288 with 1 Axes>"
      ]
     },
     "metadata": {
      "needs_background": "light"
     },
     "output_type": "display_data"
    }
   ],
   "source": [
    "from matplotlib import pyplot as plt\n",
    "plt.boxplot(x,sym='*')\n",
    "plt.show()"
   ]
  }
 ],
 "metadata": {
  "kernelspec": {
   "display_name": "Python 3",
   "language": "python",
   "name": "python3"
  },
  "language_info": {
   "codemirror_mode": {
    "name": "ipython",
    "version": 3
   },
   "file_extension": ".py",
   "mimetype": "text/x-python",
   "name": "python",
   "nbconvert_exporter": "python",
   "pygments_lexer": "ipython3",
   "version": "3.7.3"
  }
 },
 "nbformat": 4,
 "nbformat_minor": 2
}
