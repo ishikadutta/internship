{
 "cells": [
  {
   "cell_type": "markdown",
   "metadata": {},
   "source": [
    "## Discrete and Continuous Distributions"
   ]
  },
  {
   "cell_type": "code",
   "execution_count": 1,
   "metadata": {},
   "outputs": [],
   "source": [
    "import numpy as np\n",
    "import pandas as pd"
   ]
  },
  {
   "cell_type": "markdown",
   "metadata": {},
   "source": [
    "### Binomial Distribution:  \n",
    "Each trial has exactly two possible outcomes: success and failure. \n",
    "Each trial is independent of the previous trials. \n",
    "Comes under discrete distribution.\n",
    " p is the probability of a success on any one trial .\n",
    "q = (1-p) is the probability of a failure on any one trial .\n",
    " p and q are constant throughout the experiment \n",
    " X is the number of successes in the n trials \n",
    " mean= n*p\n",
    " variance= n*p*q"
   ]
  },
  {
   "cell_type": "code",
   "execution_count": 7,
   "metadata": {},
   "outputs": [
    {
     "name": "stdout",
     "output_type": "stream",
     "text": [
      "0.09077799859322791\n"
     ]
    }
   ],
   "source": [
    "from scipy.stats import binom\n",
    "print(binom.pmf(k=19,n=25,p=0.65)) #k=X,n=no of smaples, p=probability  pmf(probability mass function) when in question asked exactly"
   ]
  },
  {
   "cell_type": "code",
   "execution_count": 8,
   "metadata": {},
   "outputs": [
    {
     "data": {
      "text/plain": [
       "0.8850275957378545"
      ]
     },
     "execution_count": 8,
     "metadata": {},
     "output_type": "execute_result"
    }
   ],
   "source": [
    "binom.cdf(2,20,0.06) #cumulative distribution function when less than 2  mentioned "
   ]
  },
  {
   "cell_type": "markdown",
   "metadata": {},
   "source": [
    "### Poisson Distribution \n",
    "• Describes discrete occurrences over a continuum or interval \n",
    "• A discrete distribution • Describes rare events\n",
    "• Each occurrence is independent any other occurrences.\n",
    "• The number of occurrences in each interval can vary from zero to infinity.\n",
    "• The expected number of occurrences must hold constant throughout the experiment"
   ]
  },
  {
   "cell_type": "code",
   "execution_count": 10,
   "metadata": {},
   "outputs": [],
   "source": [
    "from scipy.stats import poisson"
   ]
  },
  {
   "cell_type": "code",
   "execution_count": 11,
   "metadata": {},
   "outputs": [
    {
     "data": {
      "text/plain": [
       "0.18044704431548356"
      ]
     },
     "execution_count": 11,
     "metadata": {},
     "output_type": "execute_result"
    }
   ],
   "source": [
    "poisson.pmf(3,2) #x=3, mean=2(lambda) unit of mean and unit of mean should be same if not then convert"
   ]
  },
  {
   "cell_type": "code",
   "execution_count": 13,
   "metadata": {},
   "outputs": [],
   "source": [
    "prob=poisson.cdf(7,3.2)"
   ]
  },
  {
   "cell_type": "code",
   "execution_count": 14,
   "metadata": {},
   "outputs": [
    {
     "data": {
      "text/plain": [
       "0.01682984174895752"
      ]
     },
     "execution_count": 14,
     "metadata": {},
     "output_type": "execute_result"
    }
   ],
   "source": [
    "prob_more_than_7 = 1- prob\n",
    "prob_more_than_7"
   ]
  },
  {
   "cell_type": "markdown",
   "metadata": {},
   "source": [
    "A bank has an average random  arrival rate of 3.2 customers every 4 minutes. What is the probability of getting exactly 10 customers every 8 miutes."
   ]
  },
  {
   "cell_type": "code",
   "execution_count": 37,
   "metadata": {},
   "outputs": [
    {
     "data": {
      "text/plain": [
       "0.052790043854115495"
      ]
     },
     "execution_count": 37,
     "metadata": {},
     "output_type": "execute_result"
    }
   ],
   "source": [
    "poisson.pmf(10,6.4)"
   ]
  },
  {
   "cell_type": "markdown",
   "metadata": {},
   "source": [
    "### HyperGeometric Disribution\n",
    "• Sampling without replacement from a finite population \n",
    "\n",
    "• The number of objects in the population is denoted N. \n",
    "\n",
    "• Each trial has exactly two possible outcomes, success and failure. \n",
    "\n",
    "• Trials are not independent \n",
    "\n",
    "• X is the number of successes in the n trials \n",
    "\n",
    "• The binomial is an acceptable approximation, if  N/10 > n  Otherwise it is not. \n",
    "\n",
    "• The binomial distribution is applicable when selecting from a finite population with replacement or from an infinite population without replacement. \n",
    " \n",
    "• The hypergeometric distribution is applicable when selecting from a finite population without replacement. \n",
    "\n",
    "• Probability function\n",
    "\n",
    "–N is population size \n",
    "\n",
    "–n is sample size \n",
    "\n",
    "–A is number of successes in population \n",
    "\n",
    "–x is number of successes in sample \n"
   ]
  },
  {
   "cell_type": "code",
   "execution_count": 39,
   "metadata": {},
   "outputs": [
    {
     "data": {
      "text/plain": [
       "0.9975490196078446"
      ]
     },
     "execution_count": 39,
     "metadata": {},
     "output_type": "execute_result"
    }
   ],
   "source": [
    "#for one or more then sf used which is survival function\n",
    "from scipy.stats import hypergeom\n",
    "pval = hypergeom.sf(0,18,5,11) #hypergeom.sf(x-1,N,n,A)\n",
    "pval"
   ]
  },
  {
   "cell_type": "code",
   "execution_count": 40,
   "metadata": {},
   "outputs": [
    {
     "data": {
      "text/plain": [
       "0.04738562091503275"
      ]
     },
     "execution_count": 40,
     "metadata": {},
     "output_type": "execute_result"
    }
   ],
   "source": [
    "#for one or fewer\n",
    "hypergeom.cdf(1,18,5,11)"
   ]
  },
  {
   "cell_type": "markdown",
   "metadata": {},
   "source": [
    "### Continuos Distribution: Uniform Distribution\n",
    "• The uniform distribution is a probability distribution that has equal probabilities for all possible outcomes of the random variable \n",
    " \n",
    "• Because of its shape it is also called a rectangular distribution \n",
    "  \n",
    "  mean= (a+b)/2\n",
    "  \n",
    "  standard deviation = (b-a)/(12^(1/2))"
   ]
  },
  {
   "cell_type": "code",
   "execution_count": 18,
   "metadata": {},
   "outputs": [
    {
     "data": {
      "text/plain": [
       "array([27, 28, 29, 30, 31, 32, 33, 34, 35, 36, 37, 38, 39])"
      ]
     },
     "execution_count": 18,
     "metadata": {},
     "output_type": "execute_result"
    }
   ],
   "source": [
    "U= np.arange(27,40,1)\n",
    "U"
   ]
  },
  {
   "cell_type": "code",
   "execution_count": 19,
   "metadata": {},
   "outputs": [],
   "source": [
    "from scipy.stats import uniform"
   ]
  },
  {
   "cell_type": "code",
   "execution_count": 20,
   "metadata": {},
   "outputs": [
    {
     "data": {
      "text/plain": [
       "33.0"
      ]
     },
     "execution_count": 20,
     "metadata": {},
     "output_type": "execute_result"
    }
   ],
   "source": [
    "uniform.mean(loc=27,scale=12)"
   ]
  },
  {
   "cell_type": "code",
   "execution_count": 21,
   "metadata": {},
   "outputs": [
    {
     "data": {
      "text/plain": [
       "array([0.25      , 0.33333333, 0.41666667, 0.5       , 0.58333333,\n",
       "       0.66666667])"
      ]
     },
     "execution_count": 21,
     "metadata": {},
     "output_type": "execute_result"
    }
   ],
   "source": [
    "#now if we want to find the probability between 30 to 35\n",
    "#the resultant array will give the probability at each point\n",
    "uniform.cdf(np.arange(30,36,1),loc=27,scale=12)"
   ]
  },
  {
   "cell_type": "code",
   "execution_count": 22,
   "metadata": {},
   "outputs": [
    {
     "data": {
      "text/plain": [
       "0.41666667"
      ]
     },
     "execution_count": 22,
     "metadata": {},
     "output_type": "execute_result"
    }
   ],
   "source": [
    "#therefore to find probability in between 30 and 35\n",
    "prob=0.66666667- 0.25\n",
    "prob"
   ]
  },
  {
   "cell_type": "code",
   "execution_count": 23,
   "metadata": {},
   "outputs": [
    {
     "data": {
      "text/plain": [
       "3.4641016151377544"
      ]
     },
     "execution_count": 23,
     "metadata": {},
     "output_type": "execute_result"
    }
   ],
   "source": [
    "#standard deviation\n",
    "uniform.std(loc=27,scale=12)"
   ]
  },
  {
   "cell_type": "markdown",
   "metadata": {},
   "source": [
    "### Normal Distribution\n",
    "• ‘Bell Shaped’ \n",
    "\n",
    "•  Symmetrical     \n",
    "\n",
    "•  Mean, Median and Mode are equal \n",
    "\n",
    "•  Location is characterized by the mean, μ \n",
    "\n",
    "•  Spread is characterized by the standard deviation, σ  \n",
    "\n",
    "• The random variable has an infinite theoretical range: -infinity to +infinity \n",
    "\n",
    "The Standardized Normal Distribution \n",
    "\n",
    "\n",
    "• Any normal distribution (with any mean and standard deviation \n",
    "combination) can be transformed into the standardized normal \n",
    "distribution (Z). \n",
    "\n",
    "\n",
    "• Need to transform X units into Z units. \n",
    "\n",
    "Z = (X-mean)/S.D.\n",
    "\n",
    "\n",
    "• The standardized normal distribution has a mean of 0 and a standard \n",
    "deviation of 1. \n",
    "  "
   ]
  },
  {
   "cell_type": "code",
   "execution_count": 24,
   "metadata": {},
   "outputs": [],
   "source": [
    "from scipy.stats import norm"
   ]
  },
  {
   "cell_type": "code",
   "execution_count": 25,
   "metadata": {},
   "outputs": [],
   "source": [
    "val,m,s=68,65.5,2.5 #val=X, m=Mean s=Standard deviation"
   ]
  },
  {
   "cell_type": "code",
   "execution_count": 26,
   "metadata": {},
   "outputs": [
    {
     "name": "stdout",
     "output_type": "stream",
     "text": [
      "0.8413447460685429\n"
     ]
    }
   ],
   "source": [
    "print(norm.cdf(val,m,s))"
   ]
  },
  {
   "cell_type": "markdown",
   "metadata": {},
   "source": [
    "###### cdf(x>val)"
   ]
  },
  {
   "cell_type": "code",
   "execution_count": 29,
   "metadata": {},
   "outputs": [
    {
     "name": "stdout",
     "output_type": "stream",
     "text": [
      "0.15865525393145707\n"
     ]
    }
   ],
   "source": [
    "print(1-norm.cdf(val,m,s))"
   ]
  },
  {
   "cell_type": "markdown",
   "metadata": {},
   "source": [
    "###### cdf(val1<x<val2)"
   ]
  },
  {
   "cell_type": "code",
   "execution_count": 30,
   "metadata": {},
   "outputs": [
    {
     "name": "stdout",
     "output_type": "stream",
     "text": [
      "0.6826894921370859\n"
     ]
    }
   ],
   "source": [
    "print(norm.cdf(val,m,s)-norm.cdf(63,m,s))"
   ]
  },
  {
   "cell_type": "markdown",
   "metadata": {},
   "source": [
    "P(x>700 | m=494 | s=100)"
   ]
  },
  {
   "cell_type": "code",
   "execution_count": 32,
   "metadata": {},
   "outputs": [
    {
     "name": "stdout",
     "output_type": "stream",
     "text": [
      "0.019699270409376912\n"
     ]
    }
   ],
   "source": [
    "print(1-norm.cdf(700,494,100))"
   ]
  },
  {
   "cell_type": "code",
   "execution_count": 36,
   "metadata": {},
   "outputs": [
    {
     "name": "stdout",
     "output_type": "stream",
     "text": [
      "1.6448536269514722\n"
     ]
    }
   ],
   "source": [
    "#if probability is given and we need to find out the z value\n",
    "#this value corresponds to area under 0.95 and its corresponding z vlue in standardized normal distribution where m=0 and s=1\n",
    "print(norm.ppf(0.95))"
   ]
  },
  {
   "cell_type": "markdown",
   "metadata": {},
   "source": [
    "### Exponential Distribution\n",
    "• The exponential probability distribution is useful in describing the time it takes to complete a task\n",
    "\n"
   ]
  },
  {
   "cell_type": "code",
   "execution_count": 41,
   "metadata": {},
   "outputs": [
    {
     "data": {
      "text/plain": [
       "0.6447736190750485"
      ]
     },
     "execution_count": 41,
     "metadata": {},
     "output_type": "execute_result"
    }
   ],
   "source": [
    "from scipy.stats import expon\n",
    "expon.cdf(0.75,0,(1/1.38))"
   ]
  },
  {
   "cell_type": "code",
   "execution_count": 45,
   "metadata": {},
   "outputs": [
    {
     "data": {
      "text/plain": [
       "-0.18886324670367544"
      ]
     },
     "execution_count": 45,
     "metadata": {},
     "output_type": "execute_result"
    }
   ],
   "source": [
    "norm.ppf(0.4251)"
   ]
  },
  {
   "cell_type": "code",
   "execution_count": null,
   "metadata": {},
   "outputs": [],
   "source": []
  }
 ],
 "metadata": {
  "kernelspec": {
   "display_name": "Python 3",
   "language": "python",
   "name": "python3"
  },
  "language_info": {
   "codemirror_mode": {
    "name": "ipython",
    "version": 3
   },
   "file_extension": ".py",
   "mimetype": "text/x-python",
   "name": "python",
   "nbconvert_exporter": "python",
   "pygments_lexer": "ipython3",
   "version": "3.7.3"
  }
 },
 "nbformat": 4,
 "nbformat_minor": 2
}
