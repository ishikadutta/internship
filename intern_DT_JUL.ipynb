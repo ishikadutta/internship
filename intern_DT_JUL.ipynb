{
 "cells": [
  {
   "cell_type": "code",
   "execution_count": 1,
   "metadata": {},
   "outputs": [],
   "source": [
    "import pandas as pd\n",
    "import numpy as np\n",
    "from sklearn.model_selection import train_test_split\n",
    "#from sklearn.tree import DecisionTreeClassifier\n",
    "from sklearn.tree import DecisionTreeRegressor\n",
    "from sklearn.ensemble import BaggingRegressor\n",
    "from sklearn.linear_model import LinearRegression\n",
    "import pydot\n",
    "from IPython.display import Image"
   ]
  },
  {
   "cell_type": "code",
   "execution_count": 2,
   "metadata": {},
   "outputs": [],
   "source": [
    "data = pd.read_csv(\"BANKNIFTYFUTALL.csv\")\n",
    "feature_cols_JUL = ['trade', 'event', 'ob', 'bevent','btrade','spreadreturn', 'niftyidevent','niftyidindex']\n",
    "#data.dropna(subset=['return800'], axis=0)\n",
    "\n",
    "data.drop([data.index[457897]],inplace=True)"
   ]
  },
  {
   "cell_type": "code",
   "execution_count": 3,
   "metadata": {},
   "outputs": [],
   "source": [
    "X= data[feature_cols_JUL]\n",
    "Y = data.return800"
   ]
  },
  {
   "cell_type": "markdown",
   "metadata": {},
   "source": [
    "##### Applying Decision tree Regressor by splitting the dta into train and test"
   ]
  },
  {
   "cell_type": "code",
   "execution_count": 30,
   "metadata": {},
   "outputs": [
    {
     "data": {
      "text/plain": [
       "((320527, 8), (137370, 8), (320527,), (137370,))"
      ]
     },
     "execution_count": 30,
     "metadata": {},
     "output_type": "execute_result"
    }
   ],
   "source": [
    "x_train,x_test,y_train,y_test= train_test_split(X,Y,test_size=0.3,random_state=1)\n",
    "x_train.shape,x_test.shape,y_train.shape,y_test.shape"
   ]
  },
  {
   "cell_type": "code",
   "execution_count": 31,
   "metadata": {},
   "outputs": [
    {
     "data": {
      "text/plain": [
       "DecisionTreeRegressor(criterion='mse', max_depth=1, max_features=None,\n",
       "           max_leaf_nodes=None, min_impurity_decrease=0.0,\n",
       "           min_impurity_split=None, min_samples_leaf=1,\n",
       "           min_samples_split=2, min_weight_fraction_leaf=0.0,\n",
       "           presort=False, random_state=None, splitter='best')"
      ]
     },
     "execution_count": 31,
     "metadata": {},
     "output_type": "execute_result"
    }
   ],
   "source": [
    "dt = DecisionTreeRegressor(max_depth=1,min_samples_split=2)\n",
    "dt.fit(x_train,y_train)"
   ]
  },
  {
   "cell_type": "code",
   "execution_count": 6,
   "metadata": {},
   "outputs": [
    {
     "data": {
      "text/plain": [
       "4.144577992334352"
      ]
     },
     "execution_count": 6,
     "metadata": {},
     "output_type": "execute_result"
    }
   ],
   "source": [
    "from sklearn.metrics import r2_score,mean_squared_error\n",
    "y_pred = dt.predict(x_test)\n",
    "mse=mean_squared_error(y_test,y_pred)\n",
    "rmse= np.sqrt(mse)\n",
    "rmse"
   ]
  },
  {
   "cell_type": "code",
   "execution_count": 7,
   "metadata": {},
   "outputs": [
    {
     "data": {
      "text/plain": [
       "0.02144272390811064"
      ]
     },
     "execution_count": 7,
     "metadata": {},
     "output_type": "execute_result"
    }
   ],
   "source": [
    "r2_score(y_test,y_pred)"
   ]
  },
  {
   "cell_type": "markdown",
   "metadata": {},
   "source": [
    "##### Constructing the tree"
   ]
  },
  {
   "cell_type": "code",
   "execution_count": 8,
   "metadata": {},
   "outputs": [],
   "source": [
    "from sklearn.externals.six import StringIO\n",
    "from sklearn.tree import export_graphviz  \n",
    "dot_data = StringIO()\n",
    "export_graphviz(dt, out_file='dot_data_JUL1.dot',  \n",
    "                         feature_names= ['trade', 'event', 'ob', 'bevent','btrade','spreadreturn', 'niftyidevent','niftyidindex'],class_names='return800',  \n",
    "                         filled=True, rounded=True,  \n",
    "                         special_characters=True)  "
   ]
  },
  {
   "cell_type": "markdown",
   "metadata": {},
   "source": [
    "##### Applying Linear Regression by dividing the dataset into two parts"
   ]
  },
  {
   "cell_type": "code",
   "execution_count": 9,
   "metadata": {},
   "outputs": [
    {
     "data": {
      "text/plain": [
       "LinearRegression(copy_X=True, fit_intercept=True, n_jobs=None,\n",
       "         normalize=False)"
      ]
     },
     "execution_count": 9,
     "metadata": {},
     "output_type": "execute_result"
    }
   ],
   "source": [
    "from sklearn.linear_model import LinearRegression\n",
    "Index_label1 = X[X['ob']<-0.517].index.tolist() \n",
    "x_model_1 = X.iloc[Index_label1]\n",
    "y_model_1=Y.iloc[Index_label1]\n",
    "\n",
    "Index_label2 = X[X['ob']>=-0.517].index.tolist()\n",
    "x_model_2=X.iloc[Index_label2]\n",
    "y_model_2 = Y.iloc[Index_label2]\n",
    "\n",
    "reg1= LinearRegression()\n",
    "reg1.fit(x_model_1,y_model_1)\n",
    "reg2= LinearRegression()\n",
    "reg2.fit(x_model_2,y_model_2)\n",
    "reg= LinearRegression()\n",
    "reg.fit(X,Y)"
   ]
  },
  {
   "cell_type": "markdown",
   "metadata": {},
   "source": [
    "##### Comparing the scores of the model Before and After split\n",
    "- It can be observed that score of model after splitting has increased drastically"
   ]
  },
  {
   "cell_type": "code",
   "execution_count": 10,
   "metadata": {},
   "outputs": [
    {
     "name": "stdout",
     "output_type": "stream",
     "text": [
      "r_sq1  0.08316174003336785\n",
      "r_sq2  0.01497921178253747\n",
      "r_sq  0.0034188210916376027\n",
      "correlation_after_split : 0.009972128635100783\n",
      "correlation_after_spit : 0.0005395225444653878\n",
      "corr_before_split: 0.05847068574625569\n"
     ]
    }
   ],
   "source": [
    "r_sq1 = reg1.score(x_model_1,y_model_1)\n",
    "print(\"r_sq1 \",r_sq1)\n",
    "r_sq2 = reg2.score(x_model_2,y_model_2)\n",
    "print(\"r_sq2 \",r_sq2)\n",
    "r_sq = reg.score(X,Y)\n",
    "print(\"r_sq \",r_sq)\n",
    "\n",
    "predict1 = reg1.predict(x_model_1)\n",
    "predict2 = reg2.predict(x_model_2)\n",
    "pred = reg.predict(X)\n",
    "\n",
    "pred= pd.Series(data=pred)\n",
    "predict1 = pd.Series(data=predict1)\n",
    "predict2 = pd.Series(data=predict2)\n",
    "\n",
    "correlation1 = y_model_1.corr(predict1)\n",
    "correlation2 = y_model_2.corr(predict2)\n",
    "corre= Y.corr(pred)\n",
    "print(\"correlation_after_split :\",correlation1)\n",
    "print(\"correlation_after_spit :\",correlation2)\n",
    "print(\"corr_before_split:\",corre)"
   ]
  },
  {
   "cell_type": "markdown",
   "metadata": {},
   "source": [
    "##### Calculating the correlation between predicted and actual values manually"
   ]
  },
  {
   "cell_type": "code",
   "execution_count": 11,
   "metadata": {},
   "outputs": [
    {
     "name": "stdout",
     "output_type": "stream",
     "text": [
      "457897\n",
      "457897\n",
      "0.06299072220140557\n"
     ]
    }
   ],
   "source": [
    "l1=[]\n",
    "l2=[]\n",
    "for i in range(len(Y)):\n",
    "    if(Y[i]>0):\n",
    "        l1.append(1)\n",
    "    elif(Y[i]<0):\n",
    "        l1.append(-1)\n",
    "    else:\n",
    "        l1.append(0)\n",
    "        \n",
    "for i in range(len(pred)):\n",
    "    if(pred[i]>0):\n",
    "        l2.append(1)\n",
    "    elif(pred[i]<0):\n",
    "        l2.append(-1)\n",
    "    else:\n",
    "        l2.append(0)\n",
    "\n",
    "print(len(l1))\n",
    "print(len(l2))\n",
    "pred= pd.Series(data=pred)\n",
    "pred1 = pd.Series(data=l1)\n",
    "pred2 = pd.Series(data=l2)\n",
    "corr1 = y_model_1.corr(pred1)\n",
    "corr2 = y_model_2.corr(pred2)\n",
    "co= pred1.corr(pred2)\n",
    "print(co)"
   ]
  },
  {
   "cell_type": "markdown",
   "metadata": {},
   "source": [
    "##### Applying DecisionTreeRegressor on the data by changing the value of parameters like max_depth and min_samples_split\n",
    "- Minimum samples for a node split: Defines the minimum number of samples (or observations) which are required in a node to be considered for splitting.\n",
    "\n",
    "- Minimum samples for a terminal node (leaf): Defines the minimum samples (or observations) required in a terminal node or leaf.\n",
    "\n",
    "- Maximum depth of the tree (vertical depth): Used to control over-fitting as higher depth will allow the model to learn relations very specific to a particular sample\n"
   ]
  },
  {
   "cell_type": "code",
   "execution_count": 36,
   "metadata": {},
   "outputs": [
    {
     "name": "stdout",
     "output_type": "stream",
     "text": [
      "rmse 4.07156993702865\n",
      "score for train 0.05735271793947039\n",
      "score fro test 0.05619492063668153\n"
     ]
    }
   ],
   "source": [
    "dt2 = DecisionTreeRegressor(max_depth=2,min_samples_split=2)\n",
    "dt2.fit(x_train,y_train)\n",
    "from sklearn.metrics import r2_score,mean_squared_error\n",
    "y_pred = dt2.predict(x_test)\n",
    "mse=mean_squared_error(y_test,y_pred)\n",
    "rmse= np.sqrt(mse)\n",
    "print(\"rmse\",rmse)\n",
    "\n",
    "score_train=dt2.score(x_train,y_train)\n",
    "print(\"score for train\",score_train)\n",
    "print(\"score fro test\",dt2.score(x_test,y_test))"
   ]
  },
  {
   "cell_type": "code",
   "execution_count": 42,
   "metadata": {},
   "outputs": [],
   "source": [
    "from sklearn.externals.six import StringIO\n",
    "from sklearn.tree import export_graphviz  \n",
    "dot_data = StringIO()\n",
    "export_graphviz(dt2, out_file='dot_data_JUL2.dot',  \n",
    "                         feature_names= ['trade', 'event', 'ob', 'bevent','btrade','spreadreturn', 'niftyidevent','niftyidindex'],class_names='return800',  \n",
    "                         filled=True, rounded=True,  \n",
    "                         special_characters=True)  "
   ]
  },
  {
   "cell_type": "code",
   "execution_count": 34,
   "metadata": {},
   "outputs": [
    {
     "name": "stdout",
     "output_type": "stream",
     "text": [
      "rmse 4.028621643876865\n",
      "score for train 0.07725580205217153\n",
      "score fro test 0.07600105457883388\n"
     ]
    }
   ],
   "source": [
    "dt3 = DecisionTreeRegressor(max_depth=3,min_samples_split=2)\n",
    "dt3.fit(x_train,y_train)\n",
    "from sklearn.metrics import r2_score,mean_squared_error\n",
    "y_pred = dt3.predict(x_test)\n",
    "mse=mean_squared_error(y_test,y_pred)\n",
    "rmse= np.sqrt(mse)\n",
    "print(\"rmse\",rmse)\n",
    "\n",
    "score_train=dt3.score(x_train,y_train)\n",
    "print(\"score for train\",score_train)\n",
    "print(\"score fro test\",dt3.score(x_test,y_test))"
   ]
  },
  {
   "cell_type": "code",
   "execution_count": 43,
   "metadata": {},
   "outputs": [],
   "source": [
    "from sklearn.externals.six import StringIO\n",
    "from sklearn.tree import export_graphviz  \n",
    "dot_data = StringIO()\n",
    "export_graphviz(dt3, out_file='dot_data_JUL3.dot',  \n",
    "                         feature_names= ['trade', 'event', 'ob', 'bevent','btrade','spreadreturn', 'niftyidevent','niftyidindex'],class_names='return800',  \n",
    "                         filled=True, rounded=True,  \n",
    "                         special_characters=True)  "
   ]
  },
  {
   "cell_type": "code",
   "execution_count": 38,
   "metadata": {},
   "outputs": [
    {
     "name": "stdout",
     "output_type": "stream",
     "text": [
      "rmse 3.903212030335391\n",
      "score for train 0.13416031200399758\n",
      "score fro test 0.13263319034912657\n"
     ]
    }
   ],
   "source": [
    "dt4 = DecisionTreeRegressor(max_depth=4,min_samples_split=2)\n",
    "dt4.fit(x_train,y_train)\n",
    "from sklearn.metrics import r2_score,mean_squared_error\n",
    "y_pred = dt4.predict(x_test)\n",
    "mse=mean_squared_error(y_test,y_pred)\n",
    "rmse= np.sqrt(mse)\n",
    "print(\"rmse\",rmse)\n",
    "\n",
    "score_train=dt4.score(x_train,y_train)\n",
    "print(\"score for train\",score_train)\n",
    "print(\"score fro test\",dt4.score(x_test,y_test))"
   ]
  },
  {
   "cell_type": "code",
   "execution_count": 44,
   "metadata": {},
   "outputs": [],
   "source": [
    "from sklearn.externals.six import StringIO\n",
    "from sklearn.tree import export_graphviz  \n",
    "dot_data = StringIO()\n",
    "export_graphviz(dt4, out_file='dot_data_JUL4.dot',  \n",
    "                         feature_names= ['trade', 'event', 'ob', 'bevent','btrade','spreadreturn', 'niftyidevent','niftyidindex'],class_names='return800',  \n",
    "                         filled=True, rounded=True,  \n",
    "                         special_characters=True)  "
   ]
  },
  {
   "cell_type": "markdown",
   "metadata": {},
   "source": [
    "##### Applying Decision Tree Regression for our dataset\n",
    "- Decision trees regression normally use mean squared error (MSE) to decide to split a node in two or more sub-nodes\n",
    "- Here, many different values of test split and train split are taken to check if the model is overfitting or not\n",
    "- Overfitting occurs when on changing the size of dataset and it parameters the score of train set increases whereas the score of test set decreases."
   ]
  },
  {
   "cell_type": "code",
   "execution_count": 26,
   "metadata": {},
   "outputs": [
    {
     "name": "stdout",
     "output_type": "stream",
     "text": [
      "rmse 3.9044328292587847\n",
      "score for train 0.13488223352023831\n",
      "score fro test 0.1315565801961598\n"
     ]
    }
   ],
   "source": [
    "x_train,x_test,y_train,y_test= train_test_split(X,Y,test_size=0.4,random_state=1)\n",
    "\n",
    "dt = DecisionTreeRegressor(max_depth=4,min_samples_split=2)\n",
    "dt.fit(x_train,y_train)\n",
    "\n",
    "from sklearn.metrics import r2_score,mean_squared_error\n",
    "y_pred = dt.predict(x_test)\n",
    "mse=mean_squared_error(y_test,y_pred)\n",
    "rmse= np.sqrt(mse)\n",
    "print(\"rmse\",rmse)\n",
    "\n",
    "score_train=dt.score(x_train,y_train)\n",
    "print(\"score for train\",score_train)\n",
    "print(\"score fro test\",dt.score(x_test,y_test))"
   ]
  },
  {
   "cell_type": "markdown",
   "metadata": {},
   "source": [
    "##### Below are some reults with different parameters\n",
    "##for depth=1, split at 0.2,0.3,0.4,0.5\n",
    "- rmse 4.145847605849474\n",
    "- score for train 0.02226440625077197\n",
    "- score fro test 0.02283569743557245\n",
    "- rmse 4.144504581414698\n",
    "- score for train 0.022507148317065795\n",
    "- score fro test 0.022079027012245178\n",
    "- rmse 4.144577992334352\n",
    "- score for train 0.022997720054378945\n",
    "- score fro test 0.021442723908110643\n",
    "- rmse 4.148930982547038\n",
    "- score for train 0.02281081351563241\n",
    "- score fro test 0.021948244176629328\n",
    "\n",
    "##for depth=2, split at 0.2,0.3,0.4,0.5\n",
    "- rmse 4.073192484629125\n",
    "- score for train 0.057076295282211816\n",
    "- score fro test 0.05678479664169378\n",
    "- rmse 4.07156993702865\n",
    "- score for train 0.05735271793947039\n",
    "- score fro test 0.05619492063668153\n",
    "- rmse 4.071692793025529\n",
    "- score for train 0.05789566073372354\n",
    "- score fro test 0.05555727862956494\n",
    "- rmse 4.074746247753332\n",
    "- score for train 0.057165238729801726\n",
    "- score fro test 0.056611553379002255\n",
    "\n",
    "##for depth=3, split at 0.2,0.3,0.4\n",
    "- rmse 4.030468204679393\n",
    "- score for train 0.07710190366342295\n",
    "- score fro test 0.07646805192755335\n",
    "- rmse 4.028621643876865\n",
    "- score for train 0.07725580205217175\n",
    "- score fro test 0.0760010545788338\n",
    "- rmse 4.029022780150299\n",
    "- score for train 0.07806967694044176\n",
    "- score fro test 0.07524846012146214\n",
    "\n",
    "##for depth=4, split at 0.2,0.3,0.4\n",
    "- rmse 3.906473644615273\n",
    "- score for train 0.1339057510519709\n",
    "- score fro test 0.13241762220709163\n",
    "- rmse 3.903212030335391\n",
    "- score for train 0.13416031200399758\n",
    "- score fro test 0.13263319034912668\n",
    "- rmse 3.9044328292587847\n",
    "- score for train 0.13488223352023831\n",
    "- score fro test 0.1315565801961598\n",
    "\n"
   ]
  },
  {
   "cell_type": "code",
   "execution_count": 45,
   "metadata": {},
   "outputs": [
    {
     "data": {
      "text/plain": [
       "0.003417216180843341"
      ]
     },
     "execution_count": 45,
     "metadata": {},
     "output_type": "execute_result"
    }
   ],
   "source": [
    "regr = BaggingRegressor(base_estimator=LinearRegression(),n_estimators=10, random_state=0).fit(X, Y)\n",
    "regr.score(X,Y)"
   ]
  },
  {
   "cell_type": "code",
   "execution_count": null,
   "metadata": {},
   "outputs": [],
   "source": []
  }
 ],
 "metadata": {
  "kernelspec": {
   "display_name": "Python 3",
   "language": "python",
   "name": "python3"
  },
  "language_info": {
   "codemirror_mode": {
    "name": "ipython",
    "version": 3
   },
   "file_extension": ".py",
   "mimetype": "text/x-python",
   "name": "python",
   "nbconvert_exporter": "python",
   "pygments_lexer": "ipython3",
   "version": "3.7.3"
  }
 },
 "nbformat": 4,
 "nbformat_minor": 2
}
