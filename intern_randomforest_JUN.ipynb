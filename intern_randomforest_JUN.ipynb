{
 "cells": [
  {
   "cell_type": "code",
   "execution_count": 1,
   "metadata": {},
   "outputs": [],
   "source": [
    "import pandas as pd\n",
    "import numpy as np\n",
    "import random\n",
    "from sklearn.model_selection import train_test_split\n",
    "#from sklearn.tree import DecisionTreeClassifier\n",
    "from sklearn.tree import DecisionTreeRegressor\n",
    "from sklearn.ensemble import BaggingRegressor\n",
    "from sklearn.linear_model import LinearRegression"
   ]
  },
  {
   "cell_type": "code",
   "execution_count": 2,
   "metadata": {},
   "outputs": [],
   "source": [
    "data = pd.read_csv(\"BANKNIFTYFUTALL.csv\")\n",
    "feature_cols_JUN = ['trade', 'event', 'ob', 'spreadreturn','niftyidevent', 'niftyidob','niftyidindex']\n",
    "\n",
    "#data.dropna(subset=['return800'], axis=0)\n",
    "\n",
    "data.drop([data.index[457897]],inplace=True)\n",
    "#data.isnull().sum(axis = 0)"
   ]
  },
  {
   "cell_type": "markdown",
   "metadata": {},
   "source": [
    "##### Create n samples from the dataset and perform regression on each sample and take the average of the score of each samples"
   ]
  },
  {
   "cell_type": "code",
   "execution_count": 9,
   "metadata": {},
   "outputs": [
    {
     "name": "stdout",
     "output_type": "stream",
     "text": [
      "[0.0034037210621610248, 0.01886493716081572, 0.003534195162503306, 0.003599351689119623, 0.011826068043760185, 0.0146278638194981, 0.004852107145150165, 0.0028895496954883804, 0.012480587039885749, 0.012414448025891978]\n",
      "final average score is  0.008849282884427424\n"
     ]
    }
   ],
   "source": [
    "n=10\n",
    "sco=[]\n",
    "while(n):\n",
    "    col=random.randint(2,7)\n",
    "    row=random.randint(0,457897)\n",
    "    col_list=[]\n",
    "    for i in range(len(feature_cols_JUN)):\n",
    "        if(i<=col):\n",
    "            col_list.append(feature_cols_JUN[i])\n",
    "    XX=data[col_list]\n",
    "    X=XX.iloc[0:row,:]\n",
    "    Y=data.iloc[0:row,34]\n",
    "    reg=LinearRegression()\n",
    "    reg.fit(X,Y)\n",
    "    r_sq = reg.score(X,Y)\n",
    "    sco.append(r_sq)\n",
    "    n=n-1\n",
    "print(sco)\n",
    "s=0\n",
    "for i in sco:\n",
    "    s+=i\n",
    "print(\"final average score is \",s/(len(sco)))"
   ]
  },
  {
   "cell_type": "markdown",
   "metadata": {},
   "source": [
    "###### Considering 100 samples"
   ]
  },
  {
   "cell_type": "code",
   "execution_count": 8,
   "metadata": {},
   "outputs": [
    {
     "name": "stdout",
     "output_type": "stream",
     "text": [
      "[0.012321177538974437, 0.01406515900344496, 0.003646596475389896, 0.0030549087889732984, 0.0012811357970994308, 0.000489360109375947, 0.003081427327382702, 0.004525315097405724, 0.0017981835255145295, 0.0012927823136974492, 0.0038969993331289254, 0.0030756266762326234, 0.001155724446404438, 0.00835854579517048, 0.003380062178316101, 0.0031467436116379144, 0.002683649984263514, 0.0019021163336849778, 0.012977013155233474, 0.013228728672017076, 0.004517033882175392, 0.0036682420989616604, 0.00483995318792696, 0.0037785520729137767, 0.0004246053136753858, 0.0075591266656172, 0.009369070350196629, 0.011952940055989236, 0.0004931970658819118, 0.00047236217537238723, 0.0031913708126072304, 0.013068755481761452, 0.001148287810260995, 0.0035867938692207835, 0.004471074967074662, 0.005059790928478192, 0.002204433187104504, 0.0011562270618438175, 0.010863432762525882, 0.0044651536264228575, 0.0010647253055616757, 0.0010930587244887269, 0.009519681544471692, 0.010139827261363199, 0.01118549041314787, 0.0038931977257601336, 0.005033826483975767, 0.0037462936065909558, 0.0032041029330360797, 0.0018769565671453714, 0.005028874301509334, 0.009642728655152144, 0.0018720787986175045, 0.003247572862116188, 0.003475048315200624, 0.013386928511998186, 0.0037693080312781735, 0.003785497830922968, 0.00926821303325609, 0.013017896509605942, 0.0005728727598232064, 0.0005765718647470219, 0.004860332481684049, 0.01325315832957552, 0.0005236894852246321, 0.0030617839356489322, 0.012854072671666827, 0.003334008709265257, 0.0021752519050045604, 0.003337184556441497, 0.01368675724723345, 0.009891909981881719, 0.011611692468097345, 0.003270125255559697, 0.003172755189936649, 0.0034109104617893182, 0.007584428354685979, 0.007458347332612414, 0.009341667989464564, 0.0032419703346837636, 0.002531824043786046, 0.0032481005754837478, 0.003640268951310643, 0.009706139559770954, 0.0006111977643992184, 0.004983164265164208, 0.0033178644739531027, 0.002757500144989211, 0.003792489101272611, 0.0005091701847980135, 0.004407529955075207, 0.004886473944460623, 0.0036337966554514933, 0.011866488225254601, 0.00352551581923366, 0.009627338638745542, 0.003161479958116775, 0.0005574993502297509, 0.0034374367798898353, 0.004100131926599193]\n",
      "final average score  0.005144238685875682\n"
     ]
    }
   ],
   "source": [
    "n=100\n",
    "sco=[]\n",
    "while(n):\n",
    "    col=random.randint(2,7)\n",
    "    row=random.randint(0,457897)\n",
    "    col_list=[]\n",
    "    if(n%2==0):\n",
    "        feature_cols_JUN.reverse()\n",
    "    for i in range(len(feature_cols_JUN)):\n",
    "        if(i<=col):\n",
    "            col_list.append(feature_cols_JUN[i])\n",
    "    XX=data[col_list]\n",
    "    X=XX.iloc[0:row,:]\n",
    "    Y=data.iloc[0:row,34]\n",
    "    reg=LinearRegression()\n",
    "    reg.fit(X,Y)\n",
    "    r_sq = reg.score(X,Y)\n",
    "    sco.append(r_sq)\n",
    "    n=n-1\n",
    "print(sco)\n",
    "s=0\n",
    "for i in sco:\n",
    "    s+=i\n",
    "print(\"final average score \",s/(len(sco)))"
   ]
  },
  {
   "cell_type": "markdown",
   "metadata": {},
   "source": [
    "##### Create n samples from the dataset and perform decision tree regression on each sample and take the average of the score of each samples"
   ]
  },
  {
   "cell_type": "code",
   "execution_count": 51,
   "metadata": {},
   "outputs": [
    {
     "name": "stdout",
     "output_type": "stream",
     "text": [
      "[0.25597736891176015, 0.2630864264529495, 0.2657893952950307, 0.26298286806036375, 0.260575454144381, 0.267974891748497, 0.26905000831726233, 0.26638258805160314, 0.2591165491515043, 0.2648470645133378]\n",
      "[array([7.73184951, 7.73184951, 7.73184951, ..., 0.        , 0.        ,\n",
      "       0.        ]), array([ 0.30917735,  0.30917735, -1.16478433, ...,  0.        ,\n",
      "        0.        ,  0.        ]), array([ 0.24288434,  0.24288434, -1.27539776, ...,  0.        ,\n",
      "        0.        ,  0.        ]), array([ 0.31444799,  0.31444799, -1.15070259, ...,  0.        ,\n",
      "        0.        ,  0.        ]), array([ 0.35405048,  0.35405048, -1.15596728, ...,  0.89050844,\n",
      "        0.89050844,  0.89050844]), array([ 0.25670492,  0.25670492, -1.30547502, ...,  0.        ,\n",
      "        0.        ,  0.        ]), array([ 0.26104589,  0.26104589, -1.23606574, ...,  0.        ,\n",
      "        0.        ,  0.        ]), array([ 0.22714496,  0.22714496, -1.29065923, ...,  0.        ,\n",
      "        0.        ,  0.        ]), array([ 0.320685 ,  0.320685 , -1.1760572, ...,  0.       ,  0.       ,\n",
      "        0.       ]), array([ 0.25873148,  0.25873148, -1.21370273, ...,  0.        ,\n",
      "        0.        ,  0.        ])]\n",
      "correlation 0.26581918452371156\n",
      "5936813.566514585\n",
      "292151.4873751691\n",
      "cod 0.04921015020970027\n",
      "average score  0.06948859264515964\n"
     ]
    }
   ],
   "source": [
    "n=10\n",
    "sco=[]\n",
    "predlist=[]\n",
    "corlist=[]\n",
    "predlen=[]\n",
    "plen=[]\n",
    "predlen2=[]\n",
    "def make_equal_list(predlen,predlist):\n",
    "    maxlen=max(predlen)\n",
    "    \n",
    "    for i in predlen:\n",
    "        predlen2.append(maxlen-i)\n",
    "    for i in range(len(predlist)):\n",
    "        l=[0]*predlen2[i]\n",
    "        l=np.array(l)\n",
    "        predlist[i]= np.concatenate((predlist[i],l))\n",
    "    return predlist\n",
    "while(n):\n",
    "    col=7\n",
    "    row=random.randint(0,457897)\n",
    "    col_list=[]\n",
    "    for i in range(len(feature_cols_JUN)):\n",
    "        if(i<=col):\n",
    "            col_list.append(feature_cols_JUN[i])\n",
    "    XX=data[col_list]\n",
    "    X=XX.iloc[0:row,:]\n",
    "    #print(\"x: \",X.iloc[10])\n",
    "    #print(X)\n",
    "    Y=data.iloc[0:row,34]\n",
    "    #print(type(Y))\n",
    "    #print(\"y: \",Y.iloc[10])\n",
    "    reg=DecisionTreeRegressor(max_depth=3,min_samples_split=3)\n",
    "    reg.fit(X,Y)\n",
    "    y_pred= reg.predict(X)\n",
    "    #print(\"ypred\",y_pred)\n",
    "    predlist.append(y_pred)\n",
    "    predlen.append(len(y_pred))\n",
    "    #print(type(y_pred))\n",
    "    #y_pred= np.array(y_pred)[indices.astype(int)]\n",
    "    #l=[0,0,0,0]\n",
    "    #l=np.array(l)\n",
    "    #y_pred=np.concatenate((y_pred,l))\n",
    "    #plen.append(len(y_pred))\n",
    "    \n",
    "    pred= pd.Series(data=y_pred)\n",
    "    corre= Y.corr(pred)\n",
    "    #print(\"corre\",corre)\n",
    "    corlist.append(corre)\n",
    "    r_sq = reg.score(X,Y)\n",
    "    sco.append(r_sq)\n",
    "    n=n-1\n",
    "predlist = make_equal_list(predlen,predlist)\n",
    "#print(sco)\n",
    "print(corlist)\n",
    "print(predlist)\n",
    "predavg=[]\n",
    "#print(len(predlist[0]))\n",
    "for i in range(len(predlist[0])):\n",
    "    j=0\n",
    "    summ=0\n",
    "    while(j<len(predlist)):\n",
    "        summ+=predlist[j][i]\n",
    "        j+=1\n",
    "    avg=summ/len(predlist)\n",
    "    #print(avg)\n",
    "    predavg.append(avg)\n",
    "#print(predavg)\n",
    "pred= pd.Series(data=predavg)\n",
    "corre= Y.corr(pred)\n",
    "print(\"correlation\",corre)\n",
    "ybar = np.mean(Y)\n",
    "sst=0\n",
    "ssr=0\n",
    "for i in Y:\n",
    "    ss= (i-ybar)**2\n",
    "    sst+=ss\n",
    "print(sst)\n",
    "for i in pred:\n",
    "    ss2= (i-ybar)**2\n",
    "    ssr+=ss2\n",
    "print(ssr)\n",
    "cod= ssr/sst\n",
    "print(\"cod\",cod)\n",
    "s=0\n",
    "for i in sco:\n",
    "    s+=i\n",
    "print(\"average score \",s/(len(sco)))"
   ]
  },
  {
   "cell_type": "code",
   "execution_count": null,
   "metadata": {},
   "outputs": [],
   "source": [
    "n=10\n",
    "sco=[]\n",
    "dcount={}\n",
    "davg={}\n",
    "for i in feature_cols_JUN:\n",
    "    dcount.update({i : 0})\n",
    "    davg.update({i : 0})\n",
    "while(n):\n",
    "    col=random.randint(1,7)\n",
    "    row=random.randint(0,457897)\n",
    "    col_list=[]\n",
    "    if(n%2==0):\n",
    "        feature_cols_JUN.reverse()\n",
    "    for i in range(len(feature_cols_JUN)):\n",
    "        if(i<=col):\n",
    "            col_list.append(feature_cols_JUN[i])\n",
    "    XX=data[col_list]\n",
    "    X=XX.iloc[0:row,:]\n",
    "    Y=data.iloc[0:row,34]\n",
    "    reg=DecisionTreeRegression()\n",
    "    reg.fit(X,Y)\n",
    "    Coef = pd.Series(reg.coef_,index=col_list)\n",
    "    for index, value in Coef.items():\n",
    "        dcount[index]+=1\n",
    "        davg[index]+=value\n",
    "    n=n-1\n",
    "print(dcount)\n",
    "print(davg)\n",
    "for key,val in davg.items():\n",
    "    temp= dcount[key]\n",
    "    davg[key]=val/temp\n",
    "print(davg)"
   ]
  },
  {
   "cell_type": "markdown",
   "metadata": {},
   "source": [
    "##### Performance summary of Decision Tree Regressor for different parameter values\n",
    "max_depth=2,min_samples_split=3\n",
    "- [0.05539390572681868, 0.05611628638110211, 0.05647667255575728, 0.05635894442651335, 0.05499305814888733, 0.058134613810462255, 0.05544260229324872, 0.056712263695307345, 0.05643115533275012, 0.05672075943471744]\n",
    "- score= 0.05627802618055646\n",
    "\n",
    "max_depth=3,min_samples_split=3\n",
    "- [0.06736145830429319, 0.06868438578135794, 0.07188646538389387, 0.06718991192169377, 0.07218417446677816, 0.0671390940546105, 0.06806889379512648, 0.07240972456504313, 0.06839622189149486, 0.06895803321852612]\n",
    "- score = 0.0692278363382818\n",
    "\n",
    "max_depth=3,min_samples_split=4\n",
    "- [0.06710448586813778, 0.0689795919301679, 0.06903250067390698, 0.06872724074905046, 0.07005834520965748, 0.06900868471627186, 0.0684741484630892, 0.07066631577390692, 0.06912467759929974, 0.06666087859054592]\n",
    "- score= 0.06878368695740342\n",
    "\n",
    "max_depth=4,min_samples_split=4\n",
    "- [0.08003270038793886, 0.08316556325322932, 0.08396232324892916, 0.08362677353960302, 0.07972533664277182, 0.07806711126556509, 0.07946676995310065, 0.07936497282987998, 0.07898571584915004, 0.08235950006081738]\n",
    "- score= 0.08087567670309853\n",
    "\n",
    "max_depth=5,min_samples_split=4\n",
    "- [0.08428074816490283, 0.08726894266168261, 0.08732051284946218, 0.08992368723799504, 0.08471919823753238, 0.08710982811954793, 0.09264713968952565, 0.0876982244711485, 0.08592083758283287, 0.08762102235016545]\n",
    "- 0.08745101413647954"
   ]
  },
  {
   "cell_type": "markdown",
   "metadata": {},
   "source": [
    "##### Decision tree Regression by splitting the data into test and train"
   ]
  },
  {
   "cell_type": "code",
   "execution_count": 8,
   "metadata": {},
   "outputs": [
    {
     "name": "stdout",
     "output_type": "stream",
     "text": [
      "train:  0.08803353044594533\n",
      "test:  0.08223355091441888\n",
      "289873\n",
      "429605\n"
     ]
    }
   ],
   "source": [
    "n=10\n",
    "sco_train=[]\n",
    "sco_test=[]\n",
    "testpred=[]\n",
    "trainpred=[]\n",
    "predpred=[]\n",
    "while(n):\n",
    "    col=random.randint(2,7)\n",
    "    row=random.randint(0,457897)\n",
    "    col_list=[]\n",
    "    for i in range(len(feature_cols_JUN)):\n",
    "        if(i<=col):\n",
    "            col_list.append(feature_cols_JUN[i])\n",
    "    XX=data[col_list]\n",
    "    X=XX.iloc[0:row,:]\n",
    "    Y=data.iloc[0:row,34]\n",
    "    x_train,x_test,y_train,y_test= train_test_split(X,Y,test_size=0.3,random_state=1)\n",
    "    reg=DecisionTreeRegressor(max_depth=5,min_samples_split=2)\n",
    "    reg.fit(x_train,y_train)\n",
    "    r_sq = reg.score(x_train,y_train)\n",
    "    sco_train.append(r_sq)\n",
    "    r_sq2 = reg.score(x_test,y_test)\n",
    "    sco_test.append(r_sq2)\n",
    "    y_pred = reg.predict(X)\n",
    "    #y_pred2 = reg.predict(x_train)\n",
    "    #testpred.append(y_pred)\n",
    "    #trainpred.append(y_pred2)\n",
    "    predpred.append(y_pred)\n",
    "    n=n-1\n",
    "s=0\n",
    "for i in sco_train:\n",
    "    s+=i\n",
    "print(\"train: \",s/(len(sco_train)))\n",
    "s=0\n",
    "for i in sco_test:\n",
    "    s+=i\n",
    "print(\"test: \",s/(len(sco_test)))\n",
    "#print(len(testpred[0]))\n",
    "#print(len(trainpred[0]))\n",
    "#print(len(testpred[1]))\n",
    "#print(len(trainpred[1]))\n",
    "#print(len(testpred[2]))\n",
    "print(len(predpred[0]))\n",
    "print(len(predpred[1]))"
   ]
  },
  {
   "cell_type": "markdown",
   "metadata": {},
   "source": [
    "max_depth=2,min_samples_split=2\n",
    "- train:  0.05106186305124892\n",
    "- test:  0.04930945768028309\n",
    "max_depth=2,min_samples_split=3\n",
    "- train:  0.05468168735251509\n",
    "- test:  0.05378289796203556\n",
    "\n",
    "max_depth=2,min_samples_split=4\n",
    "- train:  0.047735186724343556\n",
    "- test:  0.046667267000722004\n",
    "\n",
    "max_depth=3,min_samples_split=3\n",
    "- train:  0.0668297180513924\n",
    "- test:  0.0652018954046211\n",
    "max_depth=4,min_samples_split=3\n",
    "- train:  0.077166777511499\n",
    "- test:  0.07335019819556957\n",
    "\n"
   ]
  },
  {
   "cell_type": "code",
   "execution_count": null,
   "metadata": {},
   "outputs": [],
   "source": []
  },
  {
   "cell_type": "markdown",
   "metadata": {},
   "source": [
    "##### Calculating average weights by taking sub-samples from the dataset and then predicting accordingly"
   ]
  },
  {
   "cell_type": "code",
   "execution_count": 12,
   "metadata": {},
   "outputs": [
    {
     "name": "stdout",
     "output_type": "stream",
     "text": [
      "{'trade': 4, 'event': 5, 'ob': 5, 'spreadreturn': 6, 'niftyidevent': 7, 'niftyidob': 7, 'niftyidindex': 6}\n",
      "{'trade': 0.500308121042817, 'event': 0.7460848717666155, 'ob': 0.7277844407711833, 'spreadreturn': 0.6317658048686676, 'niftyidevent': 0.5189069901499902, 'niftyidob': -0.12066254008837482, 'niftyidindex': 0.1251180269490195}\n",
      "{'trade': 0.12507703026070424, 'event': 0.1492169743533231, 'ob': 0.14555688815423667, 'spreadreturn': 0.1052943008114446, 'niftyidevent': 0.07412957002142717, 'niftyidob': -0.017237505726910688, 'niftyidindex': 0.02085300449150325}\n"
     ]
    }
   ],
   "source": [
    "n=10\n",
    "sco=[]\n",
    "dcount={}\n",
    "davg={}\n",
    "for i in feature_cols_JUN:\n",
    "    dcount.update({i : 0})\n",
    "    davg.update({i : 0})\n",
    "while(n):\n",
    "    col=random.randint(1,7)\n",
    "    row=random.randint(0,457897)\n",
    "    col_list=[]\n",
    "    if(n%2==0):\n",
    "        feature_cols_JUN.reverse()\n",
    "    for i in range(len(feature_cols_JUN)):\n",
    "        if(i<=col):\n",
    "            col_list.append(feature_cols_JUN[i])\n",
    "    XX=data[col_list]\n",
    "    X=XX.iloc[0:row,:]\n",
    "    Y=data.iloc[0:row,34]\n",
    "    reg=LinearRegression()\n",
    "    reg.fit(X,Y)\n",
    "    Coef = pd.Series(reg.coef_,index=col_list)\n",
    "    for index, value in Coef.items():\n",
    "        dcount[index]+=1\n",
    "        davg[index]+=value\n",
    "    n=n-1\n",
    "print(dcount)\n",
    "print(davg)\n",
    "for key,val in davg.items():\n",
    "    temp= dcount[key]\n",
    "    davg[key]=val/temp\n",
    "print(davg)"
   ]
  },
  {
   "cell_type": "markdown",
   "metadata": {},
   "source": [
    "##### Predicting return800 values on the basis of new averae weights obtained above"
   ]
  },
  {
   "cell_type": "code",
   "execution_count": 13,
   "metadata": {},
   "outputs": [
    {
     "name": "stdout",
     "output_type": "stream",
     "text": [
      "0.05577087748891574\n"
     ]
    }
   ],
   "source": [
    "x=data[feature_cols_JUN]\n",
    "y= data['return800']\n",
    "pred=[]\n",
    "for j in range(len(x)):\n",
    "    s=0\n",
    "    for i in x.columns:\n",
    "        m=davg[i]*x.at[j,i]\n",
    "        s+=m\n",
    "    pred.append(s)\n",
    "\n",
    "#print(s)\n",
    "pred= pd.Series(data=pred)\n",
    "corre= y.corr(pred)\n",
    "print(corre)"
   ]
  },
  {
   "cell_type": "markdown",
   "metadata": {},
   "source": [
    "##### Calculating correlation manually"
   ]
  },
  {
   "cell_type": "code",
   "execution_count": 14,
   "metadata": {},
   "outputs": [
    {
     "name": "stdout",
     "output_type": "stream",
     "text": [
      "457897\n",
      "457897\n",
      "0.054671464209420255\n"
     ]
    }
   ],
   "source": [
    "l1=[]\n",
    "l2=[]\n",
    "for i in range(len(y)):\n",
    "    if(y[i]>0):\n",
    "        l1.append(1)\n",
    "    elif(y[i]<0):\n",
    "        l1.append(-1)\n",
    "    else:\n",
    "        l1.append(0)\n",
    "        \n",
    "for i in range(len(pred)):\n",
    "    if(pred[i]>0):\n",
    "        l2.append(1)\n",
    "    elif(pred[i]<0):\n",
    "        l2.append(-1)\n",
    "    else:\n",
    "        l2.append(0)\n",
    "\n",
    "print(len(l1))\n",
    "print(len(l2))\n",
    "pred= pd.Series(data=pred)\n",
    "pred1 = pd.Series(data=l1)\n",
    "pred2 = pd.Series(data=l2)\n",
    "#corr1 = y_model_1.corr(pred1)\n",
    "#corr2 = y_model_2.corr(pred2)\n",
    "co= pred1.corr(pred2)\n",
    "print(co)"
   ]
  },
  {
   "cell_type": "markdown",
   "metadata": {},
   "source": [
    "##### calculating Coefficient of Determination(score) manually"
   ]
  },
  {
   "cell_type": "code",
   "execution_count": 15,
   "metadata": {},
   "outputs": [
    {
     "name": "stdout",
     "output_type": "stream",
     "text": [
      "8033500.013158645\n",
      "44069.21166962489\n",
      "0.005485680163993375\n"
     ]
    }
   ],
   "source": [
    "ybar = np.mean(y)\n",
    "sst=0\n",
    "ssr=0\n",
    "for i in y:\n",
    "    ss= (i-ybar)**2\n",
    "    sst+=ss\n",
    "print(sst)\n",
    "for i in pred:\n",
    "    ss2= (i-ybar)**2\n",
    "    ssr+=ss2\n",
    "print(ssr)\n",
    "cod= ssr/sst\n",
    "print(cod)"
   ]
  },
  {
   "cell_type": "markdown",
   "metadata": {},
   "source": [
    "#### After including the intercept"
   ]
  },
  {
   "cell_type": "code",
   "execution_count": 16,
   "metadata": {},
   "outputs": [
    {
     "name": "stdout",
     "output_type": "stream",
     "text": [
      "{'niftyidindex': 4, 'niftyidob': 5, 'niftyidevent': 7, 'spreadreturn': 8, 'ob': 7, 'event': 8, 'trade': 7}\n",
      "{'niftyidindex': 0.10976240161462388, 'niftyidob': -0.09699148467778886, 'niftyidevent': 0.44755817317136276, 'spreadreturn': 0.540000860286138, 'ob': 1.3943514807959831, 'event': 0.978849033309045, 'trade': 0.7886622537376611}\n",
      "0.018007871227688065\n",
      "{'niftyidindex': 0.02744060040365597, 'niftyidob': -0.019398296935557773, 'niftyidevent': 0.06393688188162325, 'spreadreturn': 0.06750010753576725, 'ob': 0.19919306868514045, 'event': 0.12235612916363063, 'trade': 0.1126660362482373}\n"
     ]
    }
   ],
   "source": [
    "n=10\n",
    "p=n\n",
    "sco=[]\n",
    "dcount={}\n",
    "davg={}\n",
    "intersum=0\n",
    "for i in feature_cols_JUN:\n",
    "    dcount.update({i : 0})\n",
    "    davg.update({i : 0})\n",
    "while(n):\n",
    "    col=random.randint(1,7)\n",
    "    row=random.randint(0,457897)\n",
    "    col_list=[]\n",
    "    if(n%2==0):\n",
    "        feature_cols_JUN.reverse()\n",
    "    for i in range(len(feature_cols_JUN)):\n",
    "        if(i<=col):\n",
    "            col_list.append(feature_cols_JUN[i])\n",
    "    XX=data[col_list]\n",
    "    X=XX.iloc[0:row,:]\n",
    "    Y=data.iloc[0:row,34]\n",
    "    reg=LinearRegression()\n",
    "    reg.fit(X,Y)\n",
    "    Coef = pd.Series(reg.coef_,index=col_list)\n",
    "    #print(Coef)\n",
    "    #print()\n",
    "    inc = reg.intercept_\n",
    "    intersum+=inc\n",
    "    for index, value in Coef.items():\n",
    "        dcount[index]+=1\n",
    "        davg[index]+=value\n",
    "    n=n-1\n",
    "print(dcount)\n",
    "print(davg)\n",
    "for key,val in davg.items():\n",
    "    temp= dcount[key]\n",
    "    davg[key]=val/temp\n",
    "intavg=intersum/p\n",
    "print(intavg)\n",
    "print(davg)"
   ]
  },
  {
   "cell_type": "code",
   "execution_count": 17,
   "metadata": {},
   "outputs": [
    {
     "name": "stdout",
     "output_type": "stream",
     "text": [
      "0.05532671994239343\n"
     ]
    }
   ],
   "source": [
    "x=data[feature_cols_JUN]\n",
    "y= data['return800']\n",
    "pred=[]\n",
    "for j in range(len(x)):\n",
    "    s=0\n",
    "    for i in x.columns:\n",
    "        m=davg[i]*x.at[j,i]\n",
    "        s+=m\n",
    "    s+=intavg\n",
    "    pred.append(s)\n",
    "pred= pd.Series(data=pred)\n",
    "corre= y.corr(pred)\n",
    "print(corre)"
   ]
  },
  {
   "cell_type": "code",
   "execution_count": 18,
   "metadata": {},
   "outputs": [
    {
     "name": "stdout",
     "output_type": "stream",
     "text": [
      "8033500.013158645\n",
      "39129.918147886645\n",
      "0.004870843104972048\n"
     ]
    }
   ],
   "source": [
    "ybar = np.mean(y)\n",
    "sst=0\n",
    "ssr=0\n",
    "for i in y:\n",
    "    ss= (i-ybar)**2\n",
    "    sst+=ss\n",
    "print(sst)\n",
    "for i in pred:\n",
    "    ss2= (i-ybar)**2\n",
    "    ssr+=ss2\n",
    "print(ssr)\n",
    "cod= ssr/sst\n",
    "print(cod)"
   ]
  },
  {
   "cell_type": "markdown",
   "metadata": {},
   "source": [
    "###### Instead of taking the average weights , here the average weights are multiplied by some random constants to observe the changes in predicted values"
   ]
  },
  {
   "cell_type": "code",
   "execution_count": 54,
   "metadata": {},
   "outputs": [
    {
     "name": "stdout",
     "output_type": "stream",
     "text": [
      "{'niftyidindex': 0.00050551785244986, 'niftyidob': -4.463864905530456e-05, 'niftyidevent': 0.0002712238479321227, 'spreadreturn': 0.00022042452963148403, 'ob': 0.00038695571915674156, 'event': 7.623560793607085e-05, 'trade': 0.0006383418847845569}\n",
      "{'niftyidindex': 9.191233680906547e-06, 'niftyidob': -1.6232236020110748e-06, 'niftyidevent': 1.4794028069024875e-05, 'spreadreturn': 1.603087488228975e-05, 'ob': 3.517779265061287e-05, 'event': 8.316611774844093e-06, 'trade': 8.12435126089436e-05}\n"
     ]
    }
   ],
   "source": [
    "w=[0.1,0.2,0.3,0.4,0.5,0.6,0.7,0.8,0.9,1]\n",
    "print(davg)\n",
    "k=0\n",
    "for i,j in davg.items():\n",
    "    ran=random.randint(0,9)\n",
    "    davg[i]=(davg[i]*w[k])/sum(w)\n",
    "    k+=1\n",
    "print(davg)"
   ]
  },
  {
   "cell_type": "code",
   "execution_count": 19,
   "metadata": {},
   "outputs": [
    {
     "name": "stdout",
     "output_type": "stream",
     "text": [
      "0.05532671994239343\n"
     ]
    }
   ],
   "source": [
    "x=data[feature_cols_JUN]\n",
    "y= data['return800']\n",
    "pred=[]\n",
    "for j in range(len(x)):\n",
    "    s=0\n",
    "    for i in x.columns:\n",
    "        m=davg[i]*x.at[j,i]\n",
    "        s+=m\n",
    "    s+=intavg\n",
    "    pred.append(s)\n",
    "pred= pd.Series(data=pred)\n",
    "corre= y.corr(pred)\n",
    "print(corre)"
   ]
  },
  {
   "cell_type": "code",
   "execution_count": 20,
   "metadata": {},
   "outputs": [
    {
     "name": "stdout",
     "output_type": "stream",
     "text": [
      "8033500.013158645\n",
      "39129.918147886645\n",
      "0.004870843104972048\n"
     ]
    }
   ],
   "source": [
    "ybar = np.mean(y)\n",
    "sst=0\n",
    "ssr=0\n",
    "for i in y:\n",
    "    ss= (i-ybar)**2\n",
    "    sst+=ss\n",
    "print(sst)\n",
    "for i in pred:\n",
    "    ss2= (i-ybar)**2\n",
    "    ssr+=ss2\n",
    "print(ssr)\n",
    "cod= ssr/sst\n",
    "print(cod)"
   ]
  },
  {
   "cell_type": "markdown",
   "metadata": {},
   "source": [
    "##### It can be clearly concluded by observing the new score that the constant random weights are not helping in better prediction of the model"
   ]
  },
  {
   "cell_type": "markdown",
   "metadata": {},
   "source": [
    "##### Using RMSE\n",
    "- Dividing each weight by rmse values of models and calculating the score to observe changes in the predicted value"
   ]
  },
  {
   "cell_type": "code",
   "execution_count": 21,
   "metadata": {},
   "outputs": [
    {
     "name": "stdout",
     "output_type": "stream",
     "text": [
      "{'trade': 4, 'event': 7, 'ob': 6, 'spreadreturn': 6, 'niftyidevent': 9, 'niftyidob': 8, 'niftyidindex': 8}\n",
      "{'trade': 0.4704630577033942, 'event': 0.9054206369791131, 'ob': 0.994044100168474, 'spreadreturn': 0.33842938863228567, 'niftyidevent': 0.6045833296936566, 'niftyidob': -0.16439179550584587, 'niftyidindex': 0.15845355315133292}\n",
      "0.019952099199730282\n",
      "{'trade': 0.11761576442584855, 'event': 0.12934580528273046, 'ob': 0.16567401669474566, 'spreadreturn': 0.05640489810538094, 'niftyidevent': 0.0671759255215174, 'niftyidob': -0.020548974438230734, 'niftyidindex': 0.019806694143916614}\n",
      "[4.147175742668686, 3.6212427297212817, 3.629416790473557, 4.3305334349688165, 3.8604166814381613, 3.6410263818038486, 4.181350454687284, 4.34457237881039, 4.2856529451599155, 4.231834500186007]\n"
     ]
    }
   ],
   "source": [
    "n=10\n",
    "p=n\n",
    "sco=[]\n",
    "dcount={}\n",
    "davg={}\n",
    "ms=[]\n",
    "intersum=0\n",
    "for i in feature_cols_JUN:\n",
    "    dcount.update({i : 0})\n",
    "    davg.update({i : 0})\n",
    "while(n):\n",
    "    col=random.randint(1,7)\n",
    "    row=random.randint(0,457897)\n",
    "    col_list=[]\n",
    "    if(n%2==0):\n",
    "        feature_cols_JUN.reverse()\n",
    "    for i in range(len(feature_cols_JUN)):\n",
    "        if(i<=col):\n",
    "            col_list.append(feature_cols_JUN[i])\n",
    "    XX=data[col_list]\n",
    "    X=XX.iloc[0:row,:]\n",
    "    Y=data.iloc[0:row,34]\n",
    "    reg=LinearRegression()\n",
    "    reg.fit(X,Y)\n",
    "    Coef = pd.Series(reg.coef_,index=col_list)\n",
    "    #print(Coef)\n",
    "    #print()\n",
    "    inc = reg.intercept_\n",
    "    intersum+=inc\n",
    "    for index, value in Coef.items():\n",
    "        dcount[index]+=1\n",
    "        davg[index]+=value\n",
    "    from sklearn.metrics import r2_score,mean_squared_error\n",
    "    y_pred = reg.predict(X)\n",
    "    mse=mean_squared_error(Y,y_pred)\n",
    "    rmse= np.sqrt(mse)\n",
    "    ms.append(rmse)\n",
    "    n=n-1\n",
    "print(dcount)\n",
    "print(davg)\n",
    "for key,val in davg.items():\n",
    "    temp= dcount[key]\n",
    "    davg[key]=val/temp\n",
    "intavg=intersum/p\n",
    "print(intavg)\n",
    "print(davg)\n",
    "print(ms)"
   ]
  },
  {
   "cell_type": "code",
   "execution_count": 26,
   "metadata": {},
   "outputs": [
    {
     "name": "stdout",
     "output_type": "stream",
     "text": [
      "correlation:  0.05576328348208124\n"
     ]
    }
   ],
   "source": [
    "x=data[feature_cols_JUN]\n",
    "y= data['return800']\n",
    "pred=[]\n",
    "for j in range(len(x)):\n",
    "    s=0\n",
    "    for i in x.columns:\n",
    "        m=davg[i]*x.at[j,i]*(1/ms[3])\n",
    "        s+=m\n",
    "    s+=intavg\n",
    "    pred.append(s)\n",
    "pred= pd.Series(data=pred)\n",
    "corre= y.corr(pred)\n",
    "print(\"correlation: \",corre)"
   ]
  },
  {
   "cell_type": "code",
   "execution_count": 27,
   "metadata": {},
   "outputs": [
    {
     "name": "stdout",
     "output_type": "stream",
     "text": [
      "8033500.013158645\n",
      "2006.3295419993499\n",
      "cod:  0.00024974538354553295\n"
     ]
    }
   ],
   "source": [
    "ybar = np.mean(y)\n",
    "sst=0\n",
    "ssr=0\n",
    "for i in y:\n",
    "    ss= (i-ybar)**2\n",
    "    sst+=ss\n",
    "print(sst)\n",
    "for i in pred:\n",
    "    ss2= (i-ybar)**2\n",
    "    ssr+=ss2\n",
    "print(ssr)\n",
    "cod= ssr/sst\n",
    "print(\"cod: \",cod)"
   ]
  },
  {
   "cell_type": "markdown",
   "metadata": {},
   "source": [
    "##### Summary for different rmse values\n",
    "\n",
    "ms[0]\n",
    "- corre = 0.05488660668394191\n",
    "- cod= 0.0004482884204472265\n",
    "\n",
    "correlation:  0.054886606683942185\n",
    "cod:  0.00032474037640212823\n",
    "\n",
    "ms[1]\n",
    "- correlation:  0.055763283482081344\n",
    "- cod:  0.00034833375999771357\n",
    "\n",
    "ms[2]\n",
    "- correlation:  0.055763283482081386\n",
    "- cod:  0.0003468553250985894\n",
    "\n",
    "ms[3]\n",
    "- correlation:  0.05576328348208124\n",
    "- cod:  0.00024974538354553295\n"
   ]
  },
  {
   "cell_type": "markdown",
   "metadata": {},
   "source": [
    "##### Using score values of the model\n",
    "- Multiplying each weight by r_score values of models and calculating the score to observe changes in the predicted value"
   ]
  },
  {
   "cell_type": "code",
   "execution_count": 28,
   "metadata": {},
   "outputs": [
    {
     "name": "stdout",
     "output_type": "stream",
     "text": [
      "{'niftyidindex': 10, 'niftyidob': 10, 'niftyidevent': 10, 'spreadreturn': 10, 'ob': 10, 'event': 10, 'trade': 10}\n",
      "{'niftyidindex': 0.344347393072848, 'niftyidob': -0.09794469506954775, 'niftyidevent': 0.49140115873680257, 'spreadreturn': 0.6227252650815502, 'ob': 2.2474386878058574, 'event': 1.0678039265543844, 'trade': 1.3863386569737537}\n",
      "0.04931718293531808\n",
      "{'niftyidindex': 0.0344347393072848, 'niftyidob': -0.009794469506954775, 'niftyidevent': 0.04914011587368026, 'spreadreturn': 0.06227252650815503, 'ob': 0.22474386878058575, 'event': 0.10678039265543844, 'trade': 0.13863386569737537}\n",
      "[0.003850647365639226, 0.011816310811142983, 0.0034499479986951354, 0.00516020014827534, 0.0032628385389318337, 0.003457910953028276, 0.010195886358191797, 0.012004087711736111, 0.010079262043979131, 0.0037535338928214035]\n"
     ]
    }
   ],
   "source": [
    "n=10\n",
    "p=n\n",
    "sco=[]\n",
    "dcount={}\n",
    "davg={}\n",
    "intersum=0\n",
    "rs=[]\n",
    "for i in feature_cols_JUN:\n",
    "    dcount.update({i : 0})\n",
    "    davg.update({i : 0})\n",
    "while(n):\n",
    "    #col=random.randint(1,7)\n",
    "    row=random.randint(0,457897)\n",
    "    XX=data[feature_cols_JUN]\n",
    "    X=XX.iloc[0:row,:]\n",
    "    Y=data.iloc[0:row,34]\n",
    "    reg=LinearRegression()\n",
    "    reg.fit(X,Y)\n",
    "    Coef = pd.Series(reg.coef_,index=feature_cols_JUN)\n",
    "    #print(Coef)\n",
    "    #print()\n",
    "    inc = reg.intercept_\n",
    "    intersum+=inc\n",
    "    for index, value in Coef.items():\n",
    "        dcount[index]+=1\n",
    "        davg[index]+=value\n",
    "    from sklearn.metrics import r2_score,mean_squared_error\n",
    "    y_pred = reg.predict(X)\n",
    "    rsq=r2_score(Y,y_pred)\n",
    "    rs.append(rsq)\n",
    "    n=n-1\n",
    "print(dcount)\n",
    "print(davg)\n",
    "for key,val in davg.items():\n",
    "    temp= dcount[key]\n",
    "    davg[key]=val/temp\n",
    "intavg=intersum/p\n",
    "print(intavg)\n",
    "print(davg)\n",
    "print(rs)"
   ]
  },
  {
   "cell_type": "code",
   "execution_count": 31,
   "metadata": {},
   "outputs": [
    {
     "name": "stdout",
     "output_type": "stream",
     "text": [
      "correlation:  0.053727462656701905\n"
     ]
    }
   ],
   "source": [
    "x=data[feature_cols_JUN]\n",
    "y= data['return800']\n",
    "pred=[]\n",
    "for j in range(len(x)):\n",
    "    s=0\n",
    "    for i in x.columns:\n",
    "        m=davg[i]*x.at[j,i]*rs[0]\n",
    "        s+=m\n",
    "    s+=intavg\n",
    "    pred.append(s)\n",
    "pred= pd.Series(data=pred)\n",
    "corre= y.corr(pred)\n",
    "print(\"correlation: \",corre)"
   ]
  },
  {
   "cell_type": "code",
   "execution_count": 32,
   "metadata": {},
   "outputs": [
    {
     "name": "stdout",
     "output_type": "stream",
     "text": [
      "8033500.013158645\n",
      "1220.5885228404989\n",
      "coefficient of determinnation:  0.0001519373275460521\n"
     ]
    }
   ],
   "source": [
    "ybar = np.mean(y)\n",
    "sst=0\n",
    "ssr=0\n",
    "for i in y:\n",
    "    ss= (i-ybar)**2\n",
    "    sst+=ss\n",
    "print(sst)\n",
    "for i in pred:\n",
    "    ss2= (i-ybar)**2\n",
    "    ssr+=ss2\n",
    "print(ssr)\n",
    "cod= ssr/sst\n",
    "print(\"coefficient of determinnation: \",cod)"
   ]
  },
  {
   "cell_type": "code",
   "execution_count": null,
   "metadata": {},
   "outputs": [],
   "source": []
  }
 ],
 "metadata": {
  "kernelspec": {
   "display_name": "Python 3",
   "language": "python",
   "name": "python3"
  },
  "language_info": {
   "codemirror_mode": {
    "name": "ipython",
    "version": 3
   },
   "file_extension": ".py",
   "mimetype": "text/x-python",
   "name": "python",
   "nbconvert_exporter": "python",
   "pygments_lexer": "ipython3",
   "version": "3.7.3"
  }
 },
 "nbformat": 4,
 "nbformat_minor": 2
}
