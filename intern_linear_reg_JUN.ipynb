{
 "cells": [
  {
   "cell_type": "code",
   "execution_count": 1,
   "metadata": {},
   "outputs": [
    {
     "data": {
      "text/plain": [
       "noofticks               0\n",
       "timestamp               0\n",
       "lotsize                 0\n",
       "asset                   0\n",
       "instrumentname          0\n",
       "bid                     0\n",
       "ask                     0\n",
       "spreadbps               0\n",
       "tradeinn                0\n",
       "trade                   0\n",
       "event                   0\n",
       "ob                      0\n",
       "spreadreturn            0\n",
       "btrade                  0\n",
       "bevent                  0\n",
       "bob                     0\n",
       "bspreadeurn             0\n",
       "bindex                  0\n",
       "niftytrade              0\n",
       "niftyidevent            0\n",
       "niftyidob               0\n",
       "niftyidspreadreturn     0\n",
       "niftyidindex            0\n",
       "niftyidbidaskt          0\n",
       "bbidaskt                0\n",
       "bspreadreturn.tValue    0\n",
       "mid                     0\n",
       "shiftmid200             0\n",
       "shiftmid400             0\n",
       "shiftmid600             0\n",
       "shiftmid800             0\n",
       "return200               0\n",
       "return400               0\n",
       "return600               0\n",
       "return800               0\n",
       "dtype: int64"
      ]
     },
     "execution_count": 1,
     "metadata": {},
     "output_type": "execute_result"
    }
   ],
   "source": [
    "import pandas as pd\n",
    "import numpy as np\n",
    "from sklearn.linear_model import LinearRegression\n",
    "data = pd.read_csv(\"BANKNIFTYFUTALL.csv\")\n",
    "feature_cols_JUN = ['trade', 'event', 'ob', 'spreadreturn','niftytrade','niftyidevent', 'niftyidob','niftyidspreadreturn','niftyidindex']\n",
    "\n",
    "#data.dropna(subset=['return800'], axis=0)\n",
    "\n",
    "data.drop([data.index[457897]],inplace=True)\n",
    "data.isnull().sum(axis = 0)\n"
   ]
  },
  {
   "cell_type": "markdown",
   "metadata": {},
   "source": [
    "#### Performing Linear Regression "
   ]
  },
  {
   "cell_type": "code",
   "execution_count": 2,
   "metadata": {},
   "outputs": [
    {
     "data": {
      "text/plain": [
       "LinearRegression(copy_X=True, fit_intercept=True, n_jobs=None,\n",
       "         normalize=False)"
      ]
     },
     "execution_count": 2,
     "metadata": {},
     "output_type": "execute_result"
    }
   ],
   "source": [
    "X= data[feature_cols_JUN]\n",
    "Y = data.return800\n",
    "reg= LinearRegression()\n",
    "reg.fit(X,Y)"
   ]
  },
  {
   "cell_type": "code",
   "execution_count": 3,
   "metadata": {},
   "outputs": [
    {
     "name": "stdout",
     "output_type": "stream",
     "text": [
      "LinearRegression(copy_X=True, fit_intercept=True, n_jobs=None,\n",
      "         normalize=False)\n"
     ]
    }
   ],
   "source": [
    "print(reg)"
   ]
  },
  {
   "cell_type": "code",
   "execution_count": 4,
   "metadata": {},
   "outputs": [
    {
     "data": {
      "text/plain": [
       "0.003197200419108648"
      ]
     },
     "execution_count": 4,
     "metadata": {},
     "output_type": "execute_result"
    }
   ],
   "source": [
    "r_sq = reg.score(X,Y)\n",
    "r_sq"
   ]
  },
  {
   "cell_type": "code",
   "execution_count": 5,
   "metadata": {},
   "outputs": [
    {
     "name": "stdout",
     "output_type": "stream",
     "text": [
      "            predict  return800\n",
      "predict    1.000000   0.056544\n",
      "return800  0.056544   1.000000\n"
     ]
    }
   ],
   "source": [
    "data[\"predict\"] = reg.predict(X)\n",
    "print(data[['predict','return800']].corr())"
   ]
  },
  {
   "cell_type": "code",
   "execution_count": 6,
   "metadata": {},
   "outputs": [
    {
     "name": "stdout",
     "output_type": "stream",
     "text": [
      "trade                  0.073048\n",
      "event                  0.136368\n",
      "ob                     0.121636\n",
      "spreadreturn           0.053351\n",
      "niftytrade             0.008547\n",
      "niftyidevent           0.055097\n",
      "niftyidob             -0.017960\n",
      "niftyidspreadreturn    0.002271\n",
      "niftyidindex           0.021552\n",
      "dtype: float64\n"
     ]
    }
   ],
   "source": [
    "Coef = pd.Series(reg.coef_,index=feature_cols_JUN)\n",
    "print(Coef)"
   ]
  },
  {
   "cell_type": "markdown",
   "metadata": {},
   "source": [
    "#### Performing Linear Regression by splitting the data into train and test set"
   ]
  },
  {
   "cell_type": "code",
   "execution_count": 7,
   "metadata": {},
   "outputs": [
    {
     "data": {
      "text/plain": [
       "((366317, 9), (91580, 9), (366317,), (91580,))"
      ]
     },
     "execution_count": 7,
     "metadata": {},
     "output_type": "execute_result"
    }
   ],
   "source": [
    "from sklearn.model_selection import train_test_split\n",
    "x_train,x_test,y_train,y_test= train_test_split(X,Y,test_size=0.2,random_state=88)\n",
    "x_train.shape,x_test.shape,y_train.shape,y_test.shape"
   ]
  },
  {
   "cell_type": "code",
   "execution_count": 8,
   "metadata": {},
   "outputs": [
    {
     "data": {
      "text/plain": [
       "0.02841733864926308"
      ]
     },
     "execution_count": 8,
     "metadata": {},
     "output_type": "execute_result"
    }
   ],
   "source": [
    "from sklearn.linear_model import LinearRegression\n",
    "reg = LinearRegression()\n",
    "reg.fit(x_train,y_train)\n",
    "reg.intercept_"
   ]
  },
  {
   "cell_type": "code",
   "execution_count": 9,
   "metadata": {},
   "outputs": [
    {
     "data": {
      "text/plain": [
       "array([ 0.07089065,  0.13905809,  0.12643154,  0.04780166,  0.00715076,\n",
       "        0.05556982, -0.01658027,  0.00688673,  0.02410835])"
      ]
     },
     "execution_count": 9,
     "metadata": {},
     "output_type": "execute_result"
    }
   ],
   "source": [
    "reg.coef_"
   ]
  },
  {
   "cell_type": "code",
   "execution_count": 10,
   "metadata": {},
   "outputs": [
    {
     "data": {
      "text/plain": [
       "0.002970227562862582"
      ]
     },
     "execution_count": 10,
     "metadata": {},
     "output_type": "execute_result"
    }
   ],
   "source": [
    "from sklearn.metrics import r2_score,mean_squared_error\n",
    "y_pred = reg.predict(x_test)\n",
    "mse=mean_squared_error(y_test,y_pred)\n",
    "rmse= np.sqrt(mse)\n",
    "rmse\n",
    "r2_score(y_test,y_pred)"
   ]
  },
  {
   "cell_type": "code",
   "execution_count": 11,
   "metadata": {},
   "outputs": [
    {
     "data": {
      "text/plain": [
       "0.0029702275628625823"
      ]
     },
     "execution_count": 11,
     "metadata": {},
     "output_type": "execute_result"
    }
   ],
   "source": [
    "reg.score(x_test,y_test)"
   ]
  },
  {
   "cell_type": "code",
   "execution_count": 12,
   "metadata": {},
   "outputs": [
    {
     "data": {
      "text/plain": [
       "0.0032487944784646006"
      ]
     },
     "execution_count": 12,
     "metadata": {},
     "output_type": "execute_result"
    }
   ],
   "source": [
    "reg.score(x_train,y_train)"
   ]
  },
  {
   "cell_type": "markdown",
   "metadata": {},
   "source": [
    "#### Observing Ordinry Least Squares Table "
   ]
  },
  {
   "cell_type": "code",
   "execution_count": 13,
   "metadata": {},
   "outputs": [
    {
     "name": "stdout",
     "output_type": "stream",
     "text": [
      "                            OLS Regression Results                            \n",
      "==============================================================================\n",
      "Dep. Variable:              return800   R-squared:                       0.003\n",
      "Model:                            OLS   Adj. R-squared:                  0.003\n",
      "Method:                 Least Squares   F-statistic:                     163.2\n",
      "Date:                Mon, 28 Sep 2020   Prob (F-statistic):          3.62e-310\n",
      "Time:                        14:18:23   Log-Likelihood:            -1.3049e+06\n",
      "No. Observations:              457897   AIC:                         2.610e+06\n",
      "Df Residuals:                  457887   BIC:                         2.610e+06\n",
      "Df Model:                           9                                         \n",
      "Covariance Type:            nonrobust                                         \n",
      "=======================================================================================\n",
      "                          coef    std err          t      P>|t|      [0.025      0.975]\n",
      "---------------------------------------------------------------------------------------\n",
      "Intercept               0.0247      0.008      2.939      0.003       0.008       0.041\n",
      "trade                   0.0730      0.007     10.948      0.000       0.060       0.086\n",
      "event                   0.1364      0.007     20.933      0.000       0.124       0.149\n",
      "ob                      0.1216      0.007     16.536      0.000       0.107       0.136\n",
      "spreadreturn            0.0534      0.007      8.000      0.000       0.040       0.066\n",
      "niftytrade              0.0085      0.007      1.262      0.207      -0.005       0.022\n",
      "niftyidevent            0.0551      0.006      8.926      0.000       0.043       0.067\n",
      "niftyidob              -0.0180      0.007     -2.483      0.013      -0.032      -0.004\n",
      "niftyidspreadreturn     0.0023      0.008      0.277      0.782      -0.014       0.018\n",
      "niftyidindex            0.0216      0.005      4.749      0.000       0.013       0.030\n",
      "==============================================================================\n",
      "Omnibus:                      538.546   Durbin-Watson:                   1.776\n",
      "Prob(Omnibus):                  0.000   Jarque-Bera (JB):              463.144\n",
      "Skew:                          -0.018   Prob(JB):                    2.69e-101\n",
      "Kurtosis:                       2.849   Cond. No.                         2.95\n",
      "==============================================================================\n",
      "\n",
      "Warnings:\n",
      "[1] Standard Errors assume that the covariance matrix of the errors is correctly specified.\n"
     ]
    }
   ],
   "source": [
    "from statsmodels.formula.api import ols\n",
    "reg1 = ols(formula=\"return800~trade+event+ob+spreadreturn+niftytrade+niftyidevent+niftyidob+niftyidspreadreturn+niftyidindex \",data=data)\n",
    "fit1= reg1.fit()\n",
    "print(fit1.summary())"
   ]
  },
  {
   "cell_type": "markdown",
   "metadata": {},
   "source": [
    "#### From the above Regression Results we can conclude that:\n",
    "- p-value for \"niftytrade\" and \"niftyspreadreturn\" is greater than 0.05(signigicance level)\n",
    "- Observing the confidence interval range we can see that for \"niftytrade\" and \"niftyspreadreturn\" zero comes in between which also states that these columns are not giving us best results\n",
    "- So to make our model better we try to remove those two columns and observe the results accordingly \n",
    "- Hence, we are performing Forward Inclusion and omiiting the columns which are not giving us best results"
   ]
  },
  {
   "cell_type": "code",
   "execution_count": 12,
   "metadata": {},
   "outputs": [],
   "source": [
    "import statsmodels.formula.api as smf\n",
    "def forward_inclusion(data,input_col,response):\n",
    "    remaining=set(input_col)\n",
    "    selected=[]\n",
    "    lower=[]\n",
    "    for col in remaining:\n",
    "        formula = \"{} ~ {} \".format(response,' + '.join(selected + [col]))\n",
    "        selected.append(col)\n",
    "        score = smf.ols(formula, data).fit().pvalues\n",
    "        #score.drop(['Intercept'])\n",
    "        score2=list(score)\n",
    "        for i in score2:\n",
    "            if(i>0.05):\n",
    "                var = score[score == i].index[0]\n",
    "                lower.append(var)\n",
    "    final=set(selected)-set(lower)\n",
    "    formula = \"{} ~ {} \".format(response,' + '.join(final))\n",
    "    model = smf.ols(formula, data).fit()\n",
    "    return model"
   ]
  },
  {
   "cell_type": "markdown",
   "metadata": {},
   "source": [
    "##### Calling the forward Inclusion method which performs forward inclusion and returns the columns which will produce better results."
   ]
  },
  {
   "cell_type": "code",
   "execution_count": 13,
   "metadata": {},
   "outputs": [
    {
     "name": "stdout",
     "output_type": "stream",
     "text": [
      "return800 ~ trade + spreadreturn + niftyidevent + niftyidob + ob + niftyidindex + event \n"
     ]
    }
   ],
   "source": [
    "model = forward_inclusion(data,feature_cols_JUN,'return800')\n",
    "print(model.model.formula)"
   ]
  },
  {
   "cell_type": "markdown",
   "metadata": {},
   "source": [
    "#### Including the columns returned by forward Inclusion and generating OLS Regression Summary Table"
   ]
  },
  {
   "cell_type": "code",
   "execution_count": 14,
   "metadata": {},
   "outputs": [
    {
     "name": "stdout",
     "output_type": "stream",
     "text": [
      "                            OLS Regression Results                            \n",
      "==============================================================================\n",
      "Dep. Variable:              return800   R-squared:                       0.003\n",
      "Model:                            OLS   Adj. R-squared:                  0.003\n",
      "Method:                 Least Squares   F-statistic:                     209.6\n",
      "Date:                Tue, 04 Aug 2020   Prob (F-statistic):          3.95e-312\n",
      "Time:                        23:58:15   Log-Likelihood:            -1.3049e+06\n",
      "No. Observations:              457897   AIC:                         2.610e+06\n",
      "Df Residuals:                  457889   BIC:                         2.610e+06\n",
      "Df Model:                           7                                         \n",
      "Covariance Type:            nonrobust                                         \n",
      "================================================================================\n",
      "                   coef    std err          t      P>|t|      [0.025      0.975]\n",
      "--------------------------------------------------------------------------------\n",
      "Intercept        0.0251      0.008      2.990      0.003       0.009       0.042\n",
      "trade            0.0733      0.007     11.000      0.000       0.060       0.086\n",
      "spreadreturn     0.0534      0.007      8.017      0.000       0.040       0.066\n",
      "niftyidevent     0.0560      0.006      9.138      0.000       0.044       0.068\n",
      "niftyidob       -0.0194      0.007     -2.715      0.007      -0.033      -0.005\n",
      "ob               0.1215      0.007     16.519      0.000       0.107       0.136\n",
      "niftyidindex     0.0219      0.005      4.829      0.000       0.013       0.031\n",
      "event            0.1363      0.006     21.037      0.000       0.124       0.149\n",
      "==============================================================================\n",
      "Omnibus:                      539.306   Durbin-Watson:                   1.776\n",
      "Prob(Omnibus):                  0.000   Jarque-Bera (JB):              463.952\n",
      "Skew:                          -0.019   Prob(JB):                    1.79e-101\n",
      "Kurtosis:                       2.849   Cond. No.                         2.94\n",
      "==============================================================================\n",
      "\n",
      "Warnings:\n",
      "[1] Standard Errors assume that the covariance matrix of the errors is correctly specified.\n"
     ]
    }
   ],
   "source": [
    "from statsmodels.formula.api import ols\n",
    "reg1 = ols(formula=model.model.formula,data=data)\n",
    "fit1= reg1.fit()\n",
    "print(fit1.summary())"
   ]
  },
  {
   "cell_type": "markdown",
   "metadata": {},
   "source": [
    "##### From tha above OLS Regression resuts we can also conclude that overall Significance(F-Statistic) of the model has increased "
   ]
  },
  {
   "cell_type": "markdown",
   "metadata": {},
   "source": [
    "#### Performing Linear Regression for updated columns"
   ]
  },
  {
   "cell_type": "code",
   "execution_count": 15,
   "metadata": {},
   "outputs": [],
   "source": [
    "feature_cols_JUN = ['trade', 'event', 'ob', 'spreadreturn','niftyidevent', 'niftyidob','niftyidindex']\n",
    "X= data[feature_cols_JUN]\n",
    "Y = data.return800"
   ]
  },
  {
   "cell_type": "code",
   "execution_count": 16,
   "metadata": {},
   "outputs": [
    {
     "data": {
      "text/plain": [
       "((366317, 7), (91580, 7), (366317,), (91580,))"
      ]
     },
     "execution_count": 16,
     "metadata": {},
     "output_type": "execute_result"
    }
   ],
   "source": [
    "from sklearn.model_selection import train_test_split\n",
    "x_train,x_test,y_train,y_test= train_test_split(X,Y,test_size=0.2,random_state=88)\n",
    "x_train.shape,x_test.shape,y_train.shape,y_test.shape\n"
   ]
  },
  {
   "cell_type": "code",
   "execution_count": 17,
   "metadata": {},
   "outputs": [
    {
     "data": {
      "text/plain": [
       "LinearRegression(copy_X=True, fit_intercept=True, n_jobs=None,\n",
       "         normalize=False)"
      ]
     },
     "execution_count": 17,
     "metadata": {},
     "output_type": "execute_result"
    }
   ],
   "source": [
    "from sklearn.linear_model import LinearRegression\n",
    "reg = LinearRegression()\n",
    "reg.fit(x_train,y_train)"
   ]
  },
  {
   "cell_type": "code",
   "execution_count": 18,
   "metadata": {},
   "outputs": [
    {
     "data": {
      "text/plain": [
       "0.002971791169101179"
      ]
     },
     "execution_count": 18,
     "metadata": {},
     "output_type": "execute_result"
    }
   ],
   "source": [
    "reg.score(x_test,y_test)"
   ]
  },
  {
   "cell_type": "code",
   "execution_count": 19,
   "metadata": {},
   "outputs": [
    {
     "data": {
      "text/plain": [
       "0.0032448437094623195"
      ]
     },
     "execution_count": 19,
     "metadata": {},
     "output_type": "execute_result"
    }
   ],
   "source": [
    "reg.score(x_train,y_train)"
   ]
  },
  {
   "cell_type": "code",
   "execution_count": 20,
   "metadata": {},
   "outputs": [
    {
     "name": "stdout",
     "output_type": "stream",
     "text": [
      "                    predict_after_elim  return800\n",
      "predict_after_elim            1.000000   0.056483\n",
      "return800                     0.056483   1.000000\n"
     ]
    }
   ],
   "source": [
    "data[\"predict_after_elim\"] = reg.predict(X)\n",
    "print(data[['predict_after_elim','return800']].corr())"
   ]
  },
  {
   "cell_type": "code",
   "execution_count": 21,
   "metadata": {},
   "outputs": [
    {
     "data": {
      "text/plain": [
       "LinearRegression(copy_X=True, fit_intercept=True, n_jobs=None,\n",
       "         normalize=False)"
      ]
     },
     "execution_count": 21,
     "metadata": {},
     "output_type": "execute_result"
    }
   ],
   "source": [
    "#Performing Regression on X and Y \n",
    "reg2= LinearRegression()\n",
    "reg2.fit(X,Y)"
   ]
  },
  {
   "cell_type": "code",
   "execution_count": 22,
   "metadata": {},
   "outputs": [
    {
     "name": "stdout",
     "output_type": "stream",
     "text": [
      "coefficient of determination: 0.0031935721278721907\n"
     ]
    }
   ],
   "source": [
    "r_sq = reg2.score(X,Y)\n",
    "print('coefficient of determination:', r_sq)"
   ]
  },
  {
   "cell_type": "code",
   "execution_count": 23,
   "metadata": {},
   "outputs": [
    {
     "name": "stdout",
     "output_type": "stream",
     "text": [
      "                     predict2_after_elim  return800\n",
      "predict2_after_elim             1.000000   0.056512\n",
      "return800                       0.056512   1.000000\n"
     ]
    }
   ],
   "source": [
    "data[\"predict2_after_elim\"] = reg2.predict(X)\n",
    "print(data[['predict2_after_elim','return800']].corr())"
   ]
  },
  {
   "cell_type": "markdown",
   "metadata": {},
   "source": [
    "##### Performing Backward Elimination \n",
    "Backward Elimination consists of the following steps:\n",
    "\n",
    "- Select a significance level to stay in the model (eg. SL = 0.05)\n",
    "- Fit the model with all possible predictors\n",
    "- Consider the predictor with the highest P-value. If P>SL, remove the predictor.\n",
    "- Fit the model without this variable and repeat the step 3 until the condition becomes false.\n"
   ]
  },
  {
   "cell_type": "code",
   "execution_count": 15,
   "metadata": {},
   "outputs": [],
   "source": [
    "#Backward elimination\n",
    "import statsmodels.formula.api as smf\n",
    "def backward_elimination(data,input_col,response):\n",
    "    selected=list(input_col)\n",
    "    lower=[]\n",
    "    formula = \"{} ~ {} \".format(response,' + '.join(selected))\n",
    "    score = smf.ols(formula, data).fit().pvalues\n",
    "        #score.drop(['Intercept'])\n",
    "    score2=list(score)\n",
    "    for i in score2:\n",
    "        if(i>0.05):\n",
    "            var = score[score == i].index[0]\n",
    "            lower.append(var)\n",
    "    final=set(selected)-set(lower)\n",
    "    formula = \"{} ~ {} \".format(response,' + '.join(final))\n",
    "    model = smf.ols(formula, data).fit()\n",
    "    return model"
   ]
  },
  {
   "cell_type": "markdown",
   "metadata": {},
   "source": [
    "##### Calling the Backward elimination method which performs backward elimination and returns the columns which will produce better results."
   ]
  },
  {
   "cell_type": "code",
   "execution_count": 16,
   "metadata": {},
   "outputs": [
    {
     "name": "stdout",
     "output_type": "stream",
     "text": [
      "return800 ~ spreadreturn + niftyidob + niftyidevent + trade + ob + niftyidindex + event \n"
     ]
    }
   ],
   "source": [
    "feature_cols_JUN = ['trade', 'event', 'ob', 'spreadreturn','niftytrade','niftyidevent', 'niftyidob','niftyidspreadreturn','niftyidindex']\n",
    "model = backward_elimination(data,feature_cols_JUN,'return800')\n",
    "print(model.model.formula)"
   ]
  },
  {
   "cell_type": "markdown",
   "metadata": {},
   "source": [
    "##### Conclusion : We got the same columns by performing Backward elimination as we got in Forward Inclusion"
   ]
  },
  {
   "cell_type": "markdown",
   "metadata": {},
   "source": [
    "##### Fitting the model for higher returns only"
   ]
  },
  {
   "cell_type": "code",
   "execution_count": 17,
   "metadata": {},
   "outputs": [
    {
     "name": "stdout",
     "output_type": "stream",
     "text": [
      "rsquare:  0.017486619372168444\n"
     ]
    }
   ],
   "source": [
    "import pandas as pd\n",
    "import numpy as np\n",
    "from sklearn.linear_model import LinearRegression\n",
    "data = pd.read_csv(\"BANKNIFTYFUTALL.csv\")\n",
    "data.drop([data.index[457897]],inplace=True)\n",
    "x=data.return800\n",
    "\n",
    "newpoints= data.index[data['return800'] >= np.percentile(x,75)].tolist()\n",
    "df= data.iloc[newpoints,:]\n",
    "\n",
    "feature_cols_JUN = ['trade', 'event', 'ob', 'spreadreturn','niftytrade','niftyidevent', 'niftyidob','niftyidspreadreturn','niftyidindex']\n",
    "\n",
    "X= df[feature_cols_JUN]\n",
    "Y = df.return800\n",
    "reg= LinearRegression()\n",
    "reg.fit(X,Y)\n",
    "r_sq = reg.score(X,Y)\n",
    "print(\"rsquare: \",r_sq)"
   ]
  },
  {
   "cell_type": "code",
   "execution_count": 18,
   "metadata": {},
   "outputs": [
    {
     "name": "stderr",
     "output_type": "stream",
     "text": [
      "/home/ishika/anaconda3/lib/python3.7/site-packages/ipykernel_launcher.py:1: SettingWithCopyWarning: \n",
      "A value is trying to be set on a copy of a slice from a DataFrame.\n",
      "Try using .loc[row_indexer,col_indexer] = value instead\n",
      "\n",
      "See the caveats in the documentation: http://pandas.pydata.org/pandas-docs/stable/indexing.html#indexing-view-versus-copy\n",
      "  \"\"\"Entry point for launching an IPython kernel.\n"
     ]
    },
    {
     "name": "stdout",
     "output_type": "stream",
     "text": [
      "            predict  return800\n",
      "predict    1.000000   0.132237\n",
      "return800  0.132237   1.000000\n"
     ]
    }
   ],
   "source": [
    "df[\"predict\"] = reg.predict(X)\n",
    "print(df[['predict','return800']].corr())"
   ]
  },
  {
   "cell_type": "code",
   "execution_count": 19,
   "metadata": {},
   "outputs": [
    {
     "name": "stdout",
     "output_type": "stream",
     "text": [
      "                            OLS Regression Results                            \n",
      "==============================================================================\n",
      "Dep. Variable:              return800   R-squared:                       0.017\n",
      "Model:                            OLS   Adj. R-squared:                  0.017\n",
      "Method:                 Least Squares   F-statistic:                     226.4\n",
      "Date:                Mon, 28 Sep 2020   Prob (F-statistic):               0.00\n",
      "Time:                        22:20:01   Log-Likelihood:            -2.3689e+05\n",
      "No. Observations:              114475   AIC:                         4.738e+05\n",
      "Df Residuals:                  114465   BIC:                         4.739e+05\n",
      "Df Model:                           9                                         \n",
      "Covariance Type:            nonrobust                                         \n",
      "=======================================================================================\n",
      "                          coef    std err          t      P>|t|      [0.025      0.975]\n",
      "---------------------------------------------------------------------------------------\n",
      "Intercept               5.4488      0.008    705.026      0.000       5.434       5.464\n",
      "trade                   0.0422      0.006      6.793      0.000       0.030       0.054\n",
      "event                   0.0489      0.006      8.576      0.000       0.038       0.060\n",
      "ob                     -0.0222      0.007     -3.098      0.002      -0.036      -0.008\n",
      "spreadreturn            0.0207      0.006      3.357      0.001       0.009       0.033\n",
      "niftytrade             -0.1965      0.006    -31.559      0.000      -0.209      -0.184\n",
      "niftyidevent           -0.0962      0.006    -16.755      0.000      -0.107      -0.085\n",
      "niftyidob               0.0703      0.007     10.573      0.000       0.057       0.083\n",
      "niftyidspreadreturn     0.0161      0.008      2.130      0.033       0.001       0.031\n",
      "niftyidindex           -0.0569      0.004    -13.703      0.000      -0.065      -0.049\n",
      "==============================================================================\n",
      "Omnibus:                     2007.447   Durbin-Watson:                   0.864\n",
      "Prob(Omnibus):                  0.000   Jarque-Bera (JB):             2572.293\n",
      "Skew:                           0.245   Prob(JB):                         0.00\n",
      "Kurtosis:                       3.547   Cond. No.                         2.98\n",
      "==============================================================================\n",
      "\n",
      "Warnings:\n",
      "[1] Standard Errors assume that the covariance matrix of the errors is correctly specified.\n"
     ]
    }
   ],
   "source": [
    "from statsmodels.formula.api import ols\n",
    "reg1 = ols(formula=\"return800~trade+event+ob+spreadreturn+niftytrade+niftyidevent+niftyidob+niftyidspreadreturn+niftyidindex \",data=df)\n",
    "fit1= reg1.fit()\n",
    "print(fit1.summary())"
   ]
  },
  {
   "cell_type": "code",
   "execution_count": 20,
   "metadata": {},
   "outputs": [
    {
     "name": "stdout",
     "output_type": "stream",
     "text": [
      "r_square : 0.028110517478668773\n"
     ]
    }
   ],
   "source": [
    "import pandas as pd\n",
    "import numpy as np\n",
    "from sklearn.linear_model import LinearRegression\n",
    "data = pd.read_csv(\"BANKNIFTYFUTALL.csv\")\n",
    "data.drop([data.index[457897]],inplace=True)\n",
    "x=data.return800\n",
    "\n",
    "newpoints= data.index[data['return800'] <= np.percentile(x,25)].tolist()\n",
    "df= data.iloc[newpoints,:]\n",
    "\n",
    "feature_cols_JUN = ['trade', 'event', 'ob', 'spreadreturn','niftytrade','niftyidevent', 'niftyidob','niftyidspreadreturn','niftyidindex']\n",
    "X= df[feature_cols_JUN]\n",
    "Y = df.return800\n",
    "reg= LinearRegression()\n",
    "reg.fit(X,Y)\n",
    "r_sq = reg.score(X,Y)\n",
    "print(\"r_square :\",r_sq)"
   ]
  },
  {
   "cell_type": "code",
   "execution_count": 21,
   "metadata": {},
   "outputs": [
    {
     "name": "stdout",
     "output_type": "stream",
     "text": [
      "            predict  return800\n",
      "predict    1.000000   0.167662\n",
      "return800  0.167662   1.000000\n"
     ]
    },
    {
     "name": "stderr",
     "output_type": "stream",
     "text": [
      "/home/ishika/anaconda3/lib/python3.7/site-packages/ipykernel_launcher.py:1: SettingWithCopyWarning: \n",
      "A value is trying to be set on a copy of a slice from a DataFrame.\n",
      "Try using .loc[row_indexer,col_indexer] = value instead\n",
      "\n",
      "See the caveats in the documentation: http://pandas.pydata.org/pandas-docs/stable/indexing.html#indexing-view-versus-copy\n",
      "  \"\"\"Entry point for launching an IPython kernel.\n"
     ]
    }
   ],
   "source": [
    "df[\"predict\"] = reg.predict(X)\n",
    "print(df[['predict','return800']].corr())"
   ]
  },
  {
   "cell_type": "code",
   "execution_count": 22,
   "metadata": {},
   "outputs": [
    {
     "name": "stdout",
     "output_type": "stream",
     "text": [
      "                            OLS Regression Results                            \n",
      "==============================================================================\n",
      "Dep. Variable:              return800   R-squared:                       0.028\n",
      "Model:                            OLS   Adj. R-squared:                  0.028\n",
      "Method:                 Least Squares   F-statistic:                     367.9\n",
      "Date:                Mon, 28 Sep 2020   Prob (F-statistic):               0.00\n",
      "Time:                        22:27:59   Log-Likelihood:            -2.4092e+05\n",
      "No. Observations:              114475   AIC:                         4.819e+05\n",
      "Df Residuals:                  114465   BIC:                         4.820e+05\n",
      "Df Model:                           9                                         \n",
      "Covariance Type:            nonrobust                                         \n",
      "=======================================================================================\n",
      "                          coef    std err          t      P>|t|      [0.025      0.975]\n",
      "---------------------------------------------------------------------------------------\n",
      "Intercept              -5.4132      0.008   -673.135      0.000      -5.429      -5.397\n",
      "trade                   0.0178      0.006      2.820      0.005       0.005       0.030\n",
      "event                  -0.0255      0.007     -3.829      0.000      -0.039      -0.012\n",
      "ob                      0.2472      0.007     36.152      0.000       0.234       0.261\n",
      "spreadreturn            0.0184      0.007      2.828      0.005       0.006       0.031\n",
      "niftytrade              0.1796      0.006     27.856      0.000       0.167       0.192\n",
      "niftyidevent            0.0768      0.006     13.227      0.000       0.065       0.088\n",
      "niftyidob              -0.0752      0.007    -10.986      0.000      -0.089      -0.062\n",
      "niftyidspreadreturn    -0.0203      0.008     -2.638      0.008      -0.035      -0.005\n",
      "niftyidindex            0.0898      0.004     20.915      0.000       0.081       0.098\n",
      "==============================================================================\n",
      "Omnibus:                     3690.961   Durbin-Watson:                   0.955\n",
      "Prob(Omnibus):                  0.000   Jarque-Bera (JB):             5762.080\n",
      "Skew:                          -0.312   Prob(JB):                         0.00\n",
      "Kurtosis:                       3.905   Cond. No.                         3.00\n",
      "==============================================================================\n",
      "\n",
      "Warnings:\n",
      "[1] Standard Errors assume that the covariance matrix of the errors is correctly specified.\n"
     ]
    }
   ],
   "source": [
    "from statsmodels.formula.api import ols\n",
    "reg1 = ols(formula=\"return800~trade+event+ob+spreadreturn+niftytrade+niftyidevent+niftyidob+niftyidspreadreturn+niftyidindex \",data=df)\n",
    "fit1= reg1.fit()\n",
    "print(fit1.summary())"
   ]
  },
  {
   "cell_type": "code",
   "execution_count": null,
   "metadata": {},
   "outputs": [],
   "source": []
  }
 ],
 "metadata": {
  "kernelspec": {
   "display_name": "Python 3",
   "language": "python",
   "name": "python3"
  },
  "language_info": {
   "codemirror_mode": {
    "name": "ipython",
    "version": 3
   },
   "file_extension": ".py",
   "mimetype": "text/x-python",
   "name": "python",
   "nbconvert_exporter": "python",
   "pygments_lexer": "ipython3",
   "version": "3.7.3"
  }
 },
 "nbformat": 4,
 "nbformat_minor": 2
}
